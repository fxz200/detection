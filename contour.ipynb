{
 "cells": [
  {
   "cell_type": "code",
   "execution_count": 1,
   "metadata": {},
   "outputs": [],
   "source": [
    "import cv2\n",
    "import numpy as np\n",
    "import copy"
   ]
  },
  {
   "cell_type": "code",
   "execution_count": 37,
   "metadata": {},
   "outputs": [],
   "source": [
    "image = cv2.imread(\"C:/flowerpic/jpeg-224x224/val/iris/16301.jpeg\")\n",
    "img_gray = cv2.cvtColor(image, cv2.COLOR_BGR2GRAY)\n",
    "img2 = copy.deepcopy(image)\n",
    "#img3 = copy.deepcopy(image)\n",
    "img4 = copy.deepcopy(image)\n",
    "img5 = copy.deepcopy(image)\n",
    "\n",
    "cv2.imshow('1',image)\n",
    "cv2.waitKey(0)\n",
    "\n",
    "cv2.imshow('gray',img_gray)\n",
    "cv2.waitKey(0)\n",
    "\n",
    "ret, binary = cv2.threshold(img_gray, 80, 255, cv2.THRESH_BINARY)\n",
    "contours, hierarchy = cv2.findContours(binary, cv2.RETR_TREE,cv2.CHAIN_APPROX_SIMPLE)\n",
    "cv2.drawContours(img2,contours,-1,(0,0,255),2,cv2.LINE_AA)\n",
    "cv2.imshow('2',img2)\n",
    "cv2.waitKey(0)\n",
    "\n",
    "area = map(cv2.contourArea,contours)\n",
    "area_list = list(area)\n",
    "area_max = max(area_list)\n",
    "post =  area_list.index(area_max)\n",
    "\n",
    "cv2.drawContours(img4,contours,post,(0,0,255),3)\n",
    "\n",
    "cv2.imshow('4',img4)\n",
    "cv2.waitKey(0)\n",
    "\n",
    "cimg = np.zeros_like(image)\n",
    "cimg[:,:,:] = 255\n",
    "cv2.drawContours(cimg, contours, post, color=(0,0,0), thickness=-1)\n",
    "cv2.imshow('5',cimg)\n",
    "cv2.waitKey(0)\n",
    "\n",
    "final = cv2.bitwise_or(img5,cimg)\n",
    "\n",
    "cv2.imshow('6',final)\n",
    "cv2.waitKey(0)\n",
    "\n",
    "cv2.destroyAllWindows()"
   ]
  },
  {
   "cell_type": "code",
   "execution_count": 29,
   "metadata": {},
   "outputs": [],
   "source": [
    "\n",
    "image = cv2.imread(\"C:/flowerpic/jpeg-224x224/val/iris/12769.jpeg\")\n",
    "image_gray = cv2.cvtColor(image, cv2.COLOR_BGR2GRAY)  # 轉成灰階\n",
    "#img = cv2.medianBlur(img, 9)                 # 模糊化，去除雜訊\n",
    "#output = cv2.Canny(img, 60, 60)              # 偵測邊緣\n",
    "#print(output)\n",
    "cv2.imshow('oxxostudio', image_gray)\n",
    "cv2.waitKey(0)\n",
    "cv2.destroyAllWindows()"
   ]
  }
 ],
 "metadata": {
  "kernelspec": {
   "display_name": "Python 3",
   "language": "python",
   "name": "python3"
  },
  "language_info": {
   "codemirror_mode": {
    "name": "ipython",
    "version": 3
   },
   "file_extension": ".py",
   "mimetype": "text/x-python",
   "name": "python",
   "nbconvert_exporter": "python",
   "pygments_lexer": "ipython3",
   "version": "3.9.4"
  }
 },
 "nbformat": 4,
 "nbformat_minor": 2
}
