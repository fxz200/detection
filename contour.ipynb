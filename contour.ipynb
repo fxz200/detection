{
 "cells": [
  {
   "cell_type": "code",
   "execution_count": 18,
   "metadata": {},
   "outputs": [],
   "source": [
    "import cv2\n",
    "import numpy as np\n",
    "import copy"
   ]
  },
  {
   "cell_type": "code",
   "execution_count": 16,
   "metadata": {},
   "outputs": [],
   "source": [
    "image = cv2.imread(\"flower_pic/iris/12769.jpeg\")\n",
    "#image = cv2.imread(\"testdata/osteospermum_1.jpeg\")\n",
    "\n",
    "\n",
    "img_gray = cv2.cvtColor(image, cv2.COLOR_BGR2GRAY)\n",
    "img_gray = cv2.GaussianBlur(img_gray, (5, 5), 0)\n",
    "\n",
    "\n",
    "\n",
    "ret, binary = cv2.threshold(img_gray, 40, 255, cv2.THRESH_BINARY)\n",
    "contours, hierarchy = cv2.findContours(binary, cv2.RETR_TREE,cv2.CHAIN_APPROX_SIMPLE)\n",
    "#cv2.drawContours(image,contours,-1,(0,0,255),2,cv2.LINE_AA)\n",
    "output = cv2.Canny(img_gray,  50, 200)  \n",
    "#cv2.imshow('oxxostudio', output)\n",
    "#cv2.waitKey(0)\n",
    "#cv2.destroyAllWindows()    \n",
    "\n",
    "        \n",
    "#area = map(cv2.contourArea,contours)\n",
    "#area_list = list(area)\n",
    "#area_max = max(area_list)\n",
    "#post =  area_list.index(area_max)\n",
    "( cnts, _) = cv2.findContours(output.copy(), cv2.RETR_EXTERNAL, cv2.CHAIN_APPROX_SIMPLE)\n",
    "copy=image.copy()\n",
    "cv2.drawContours(copy,cnts,-1,(0,0,255),1)\n",
    "\n",
    "#cimg = np.zeros_like(image)\n",
    "#cimg[:,:,:] = 255\n",
    "#cv2.drawContours(cimg, contours, post, color=(0,0,0), thickness=-1)\n",
    "\n",
    "#final = cv2.bitwise_or(image,cimg)\n",
    "\n",
    "cv2.imshow('6',copy)\n",
    "cv2.waitKey(0)\n",
    "\n",
    "cv2.destroyAllWindows()"
   ]
  },
  {
   "cell_type": "code",
   "execution_count": 20,
   "metadata": {},
   "outputs": [],
   "source": [
    "image = cv2.imread(\"C:/flowerpic/jpeg-224x224/val/iris/12769.jpeg\")\n",
    "img_gray = cv2.cvtColor(image, cv2.COLOR_BGR2GRAY)\n",
    "img_gray = cv2.GaussianBlur(img_gray, (5, 5), 0)\n",
    "img2 = copy.deepcopy(image)\n",
    "#img3 = copy.deepcopy(image)\n",
    "img4 = copy.deepcopy(image)\n",
    "img5 = copy.deepcopy(image)\n",
    "\n",
    "cv2.imshow('1',image)\n",
    "cv2.waitKey(0)\n",
    "\n",
    "cv2.imshow('gray',img_gray)\n",
    "cv2.waitKey(0)\n",
    "\n",
    "ret, binary = cv2.threshold(img_gray, 20, 255, cv2.THRESH_BINARY)\n",
    "contours, hierarchy = cv2.findContours(binary, cv2.RETR_TREE,cv2.CHAIN_APPROX_SIMPLE)\n",
    "cv2.drawContours(img2,contours,-1,(0,0,255),2,cv2.LINE_AA)\n",
    "cv2.imshow('2',img2)\n",
    "cv2.waitKey(0)\n",
    "\n",
    "area = map(cv2.contourArea,contours)\n",
    "area_list = list(area)\n",
    "area_max = max(area_list)\n",
    "post =  area_list.index(area_max)\n",
    "\n",
    "cv2.drawContours(img4,contours,post,(0,0,255),3)\n",
    "\n",
    "cv2.imshow('4',img4)\n",
    "cv2.waitKey(0)\n",
    "\n",
    "cimg = np.zeros_like(image)\n",
    "cimg[:,:,:] = 255\n",
    "cv2.drawContours(cimg, contours, post, color=(0,0,0), thickness=-1)\n",
    "cv2.imshow('5',cimg)\n",
    "cv2.waitKey(0)\n",
    "\n",
    "final = cv2.bitwise_or(img5,cimg)\n",
    "\n",
    "cv2.imshow('6',final)\n",
    "cv2.waitKey(0)\n",
    "\n",
    "cv2.destroyAllWindows()"
   ]
  },
  {
   "cell_type": "code",
   "execution_count": 29,
   "metadata": {},
   "outputs": [],
   "source": [
    "\n",
    "image = cv2.imread(\"C:/flowerpic/jpeg-224x224/val/iris/12769.jpeg\")\n",
    "image_gray = cv2.cvtColor(image, cv2.COLOR_BGR2GRAY)  # 轉成灰階\n",
    "#img = cv2.medianBlur(img, 9)                 # 模糊化，去除雜訊\n",
    "#output = cv2.Canny(img, 60, 60)              # 偵測邊緣\n",
    "#print(output)\n",
    "cv2.imshow('oxxostudio', image_gray)\n",
    "cv2.waitKey(0)\n",
    "cv2.destroyAllWindows()"
   ]
  },
  {
   "cell_type": "code",
   "execution_count": 21,
   "metadata": {},
   "outputs": [
    {
     "ename": "TypeError",
     "evalue": "Can't convert object to 'str' for 'filename'",
     "output_type": "error",
     "traceback": [
      "\u001b[1;31m---------------------------------------------------------------------------\u001b[0m",
      "\u001b[1;31mTypeError\u001b[0m                                 Traceback (most recent call last)",
      "Cell \u001b[1;32mIn[21], line 2\u001b[0m\n\u001b[0;32m      1\u001b[0m \u001b[38;5;66;03m#貼\u001b[39;00m\n\u001b[1;32m----> 2\u001b[0m image \u001b[38;5;241m=\u001b[39m \u001b[43mcv2\u001b[49m\u001b[38;5;241;43m.\u001b[39;49m\u001b[43mimread\u001b[49m\u001b[43m(\u001b[49m\u001b[43mimage\u001b[49m\u001b[43m)\u001b[49m\n\u001b[0;32m      3\u001b[0m img_gray \u001b[38;5;241m=\u001b[39m cv2\u001b[38;5;241m.\u001b[39mcvtColor(image, cv2\u001b[38;5;241m.\u001b[39mCOLOR_BGR2GRAY)\n\u001b[0;32m      4\u001b[0m img_gray \u001b[38;5;241m=\u001b[39m cv2\u001b[38;5;241m.\u001b[39mGaussianBlur(img_gray, (\u001b[38;5;241m5\u001b[39m, \u001b[38;5;241m5\u001b[39m), \u001b[38;5;241m0\u001b[39m)\n",
      "\u001b[1;31mTypeError\u001b[0m: Can't convert object to 'str' for 'filename'"
     ]
    }
   ],
   "source": [
    "#貼\n",
    "image = cv2.imread(image)\n",
    "img_gray = cv2.cvtColor(image, cv2.COLOR_BGR2GRAY)\n",
    "img_gray = cv2.GaussianBlur(img_gray, (5, 5), 0)\n",
    "img2 = copy.deepcopy(image)\n",
    "#img3 = copy.deepcopy(image)\n",
    "img4 = copy.deepcopy(image)\n",
    "img5 = copy.deepcopy(image)\n",
    "\n",
    "ret, binary = cv2.threshold(img_gray, 20, 255, cv2.THRESH_BINARY)\n",
    "contours, hierarchy = cv2.findContours(binary, cv2.RETR_TREE,cv2.CHAIN_APPROX_SIMPLE)\n",
    "\n",
    "area = map(cv2.contourArea,contours)\n",
    "area_list = list(area)\n",
    "area_max = max(area_list)\n",
    "post =  area_list.index(area_max)\n",
    "\n",
    "cv2.drawContours(img4,contours,post,(0,0,255),3)\n",
    "\n",
    "cimg = np.zeros_like(image)\n",
    "cimg[:,:,:] = 255\n",
    "cv2.drawContours(cimg, contours, post, color=(0,0,0), thickness=-1)\n",
    "\n",
    "img = cv2.bitwise_or(img5,cimg)"
   ]
  },
  {
   "cell_type": "code",
   "execution_count": null,
   "metadata": {},
   "outputs": [],
   "source": []
  }
 ],
 "metadata": {
  "kernelspec": {
   "display_name": "Python 3",
   "language": "python",
   "name": "python3"
  },
  "language_info": {
   "codemirror_mode": {
    "name": "ipython",
    "version": 3
   },
   "file_extension": ".py",
   "mimetype": "text/x-python",
   "name": "python",
   "nbconvert_exporter": "python",
   "pygments_lexer": "ipython3",
   "version": "3.9.4"
  }
 },
 "nbformat": 4,
 "nbformat_minor": 2
}
