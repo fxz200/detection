{
 "cells": [
  {
   "cell_type": "code",
   "execution_count": null,
   "metadata": {},
   "outputs": [],
   "source": [
    "def rgb2hsv(color):\n",
    "    color_list=color.tolist()\n",
    "    b,g,r=color_list[0],color_list[1],color_list[2]\n",
    "    r, g, b = r/255.0, g/255.0, b/255.0\n",
    "    mx, mn = max(r, g, b), min(r, g, b)\n",
    "    m = mx-mn\n",
    "    if mx == mn:\n",
    "        h = 0\n",
    "    elif mx == r:\n",
    "        if g >= b:\n",
    "            h = ((g-b)/m)*60\n",
    "        else:\n",
    "            h = ((g-b)/m)*60 + 360\n",
    "    elif mx == g:\n",
    "        h = ((b-r)/m)*60 + 120\n",
    "    elif mx == b:\n",
    "        h = ((r-g)/m)*60 + 240\n",
    "    if mx == 0:\n",
    "        s = 0\n",
    "    else:\n",
    "        s = m/mx\n",
    "    v = mx\n",
    "    return h, s, v\n"
   ]
  },
  {
   "cell_type": "markdown",
   "metadata": {},
   "source": [
    "丟一些測試的代碼"
   ]
  },
  {
   "cell_type": "code",
   "execution_count": 7,
   "metadata": {},
   "outputs": [],
   "source": [
    "##資料庫\n",
    "import pandas as pd\n",
    "import numpy as np\n",
    "\n",
    "title={\n",
    "    \"id\":[],\n",
    "    'name_En':[],\n",
    "    'name_Ch':[],\n",
    "    'color_hist':[]\n",
    "}\n",
    "\n",
    "flower_db=pd.DataFrame(title)\n"
   ]
  },
  {
   "cell_type": "code",
   "execution_count": 8,
   "metadata": {},
   "outputs": [
    {
     "data": {
      "text/html": [
       "<div>\n",
       "<style scoped>\n",
       "    .dataframe tbody tr th:only-of-type {\n",
       "        vertical-align: middle;\n",
       "    }\n",
       "\n",
       "    .dataframe tbody tr th {\n",
       "        vertical-align: top;\n",
       "    }\n",
       "\n",
       "    .dataframe thead th {\n",
       "        text-align: right;\n",
       "    }\n",
       "</style>\n",
       "<table border=\"1\" class=\"dataframe\">\n",
       "  <thead>\n",
       "    <tr style=\"text-align: right;\">\n",
       "      <th></th>\n",
       "      <th>id</th>\n",
       "      <th>name_En</th>\n",
       "      <th>name_Ch</th>\n",
       "      <th>color_hist</th>\n",
       "    </tr>\n",
       "  </thead>\n",
       "  <tbody>\n",
       "  </tbody>\n",
       "</table>\n",
       "</div>"
      ],
      "text/plain": [
       "Empty DataFrame\n",
       "Columns: [id, name_En, name_Ch, color_hist]\n",
       "Index: []"
      ]
     },
     "execution_count": 8,
     "metadata": {},
     "output_type": "execute_result"
    }
   ],
   "source": [
    "flower_db\n"
   ]
  },
  {
   "cell_type": "code",
   "execution_count": 12,
   "metadata": {},
   "outputs": [
    {
     "name": "stdout",
     "output_type": "stream",
     "text": [
      "111 124\n"
     ]
    }
   ],
   "source": [
    "import flower\n",
    "\n"
   ]
  }
 ],
 "metadata": {
  "kernelspec": {
   "display_name": "Python 3.9.2 64-bit",
   "language": "python",
   "name": "python3"
  },
  "language_info": {
   "codemirror_mode": {
    "name": "ipython",
    "version": 3
   },
   "file_extension": ".py",
   "mimetype": "text/x-python",
   "name": "python",
   "nbconvert_exporter": "python",
   "pygments_lexer": "ipython3",
   "version": "3.9.2"
  },
  "orig_nbformat": 4,
  "vscode": {
   "interpreter": {
    "hash": "27958f768dcca3a929804bc6fbe38aedd46970db20e3e9a2a0a7634f9c4148a3"
   }
  }
 },
 "nbformat": 4,
 "nbformat_minor": 2
}
