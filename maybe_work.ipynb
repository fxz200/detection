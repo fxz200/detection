{
 "cells": [
  {
   "cell_type": "markdown",
   "metadata": {},
   "source": [
    "丟一些測試的代碼"
   ]
  },
  {
   "cell_type": "code",
   "execution_count": 39,
   "metadata": {},
   "outputs": [],
   "source": [
    "import pandas as pd\n",
    "import numpy as np\n",
    "import cv2\n",
    "import os\n",
    "from PIL import Image\n",
    "import math\n",
    "import matplotlib.pyplot as plt"
   ]
  },
  {
   "cell_type": "code",
   "execution_count": null,
   "metadata": {},
   "outputs": [],
   "source": [
    "def rgb2hsv(color):\n",
    "    color_list=color.tolist()\n",
    "    b,g,r=color_list[0],color_list[1],color_list[2]\n",
    "    r, g, b = r/255.0, g/255.0, b/255.0\n",
    "    mx, mn = max(r, g, b), min(r, g, b)\n",
    "    m = mx-mn\n",
    "    if mx == mn:\n",
    "        h = 0\n",
    "    elif mx == r:\n",
    "        if g >= b:\n",
    "            h = ((g-b)/m)*60\n",
    "        else:\n",
    "            h = ((g-b)/m)*60 + 360\n",
    "    elif mx == g:\n",
    "        h = ((b-r)/m)*60 + 120\n",
    "    elif mx == b:\n",
    "        h = ((r-g)/m)*60 + 240\n",
    "    if mx == 0:\n",
    "        s = 0\n",
    "    else:\n",
    "        s = m/mx\n",
    "    v = mx\n",
    "    return h, s, v\n"
   ]
  },
  {
   "cell_type": "markdown",
   "metadata": {},
   "source": [
    "資料庫\n",
    "==="
   ]
  },
  {
   "cell_type": "code",
   "execution_count": 7,
   "metadata": {},
   "outputs": [],
   "source": [
    "##資料庫\n",
    "import pandas as pd\n",
    "import numpy as np\n",
    "\n",
    "title={\n",
    "    \"id\":[],\n",
    "    'name_En':[],\n",
    "    'name_Ch':[],\n",
    "    'color_hist':[]\n",
    "}\n",
    "\n",
    "flower_db=pd.DataFrame(title)\n",
    "\n",
    "flower_name={\n",
    "    \n",
    "}"
   ]
  },
  {
   "cell_type": "markdown",
   "metadata": {},
   "source": [
    "* tree poppy 樹罌粟\n",
    "* alpine sea holly 海濱刺芹\n",
    "* balloon flower 桔梗\n",
    "* bishop of llandaff 大麗花\n",
    "* black-eyed susan 黑心金光菊\n",
    "* blanket flower 天人菊\n",
    "* californian poppy 花菱草\n",
    "* daisy 雛菊\n",
    "* giant white arum lily 海芋\n",
    "* globe thistle 藍刺頭\n",
    "* iris 鳶尾花\n",
    "* lilac hibiscus 朱槿\n",
    "* orange dahlia 大麗花\n",
    "* osteospermum 藍眼菊\n",
    "* pink-yellow dahlia\n",
    "* poinsettia聖誕紅\n",
    "* purple coneflower 紫錐花\n",
    "* sunflower 向日葵\n",
    "* thorn apple 曼陀羅\n",
    "* tree mallow 花葵\n"
   ]
  },
  {
   "cell_type": "code",
   "execution_count": 8,
   "metadata": {},
   "outputs": [
    {
     "data": {
      "text/html": [
       "<div>\n",
       "<style scoped>\n",
       "    .dataframe tbody tr th:only-of-type {\n",
       "        vertical-align: middle;\n",
       "    }\n",
       "\n",
       "    .dataframe tbody tr th {\n",
       "        vertical-align: top;\n",
       "    }\n",
       "\n",
       "    .dataframe thead th {\n",
       "        text-align: right;\n",
       "    }\n",
       "</style>\n",
       "<table border=\"1\" class=\"dataframe\">\n",
       "  <thead>\n",
       "    <tr style=\"text-align: right;\">\n",
       "      <th></th>\n",
       "      <th>id</th>\n",
       "      <th>name_En</th>\n",
       "      <th>name_Ch</th>\n",
       "      <th>color_hist</th>\n",
       "    </tr>\n",
       "  </thead>\n",
       "  <tbody>\n",
       "  </tbody>\n",
       "</table>\n",
       "</div>"
      ],
      "text/plain": [
       "Empty DataFrame\n",
       "Columns: [id, name_En, name_Ch, color_hist]\n",
       "Index: []"
      ]
     },
     "execution_count": 8,
     "metadata": {},
     "output_type": "execute_result"
    }
   ],
   "source": [
    "flower_db\n",
    "#flower_pic\\iris\\12769.jpeg"
   ]
  },
  {
   "cell_type": "code",
   "execution_count": 48,
   "metadata": {},
   "outputs": [],
   "source": [
    "def GetId(img):\n",
    "    name=img.split(\"/\")\n",
    "    ID=name[-1][:-5]\n",
    "    return ID\n",
    "\n",
    "def GetName(img):\n",
    "    name=img.split(\"/\")\n",
    "    Name=name[-2]\n",
    "    return Name"
   ]
  },
  {
   "cell_type": "code",
   "execution_count": 49,
   "metadata": {},
   "outputs": [
    {
     "data": {
      "text/plain": [
       "'iris'"
      ]
     },
     "execution_count": 49,
     "metadata": {},
     "output_type": "execute_result"
    }
   ],
   "source": [
    "GetName(\"flower_pic/iris/12769.jpeg\")"
   ]
  },
  {
   "cell_type": "code",
   "execution_count": 5,
   "metadata": {},
   "outputs": [],
   "source": [
    "import Flower\n",
    "#Flower.show_match('C:/flowerpic/jpeg-224x224/val/iris/12769.jpeg','C:/flowerpic/jpeg-224x224/val/iris/16301.jpeg')\n"
   ]
  },
  {
   "cell_type": "markdown",
   "metadata": {},
   "source": [
    "邊緣檢測(?)\n",
    "---\n"
   ]
  },
  {
   "cell_type": "code",
   "execution_count": 32,
   "metadata": {},
   "outputs": [],
   "source": [
    "import cv2\n",
    "import numpy as np\n",
    "import imutils\n",
    "img=\"flower_pic/tree poppy/12795.jpeg\"\n",
    "image=cv2.imread(img)\n",
    "gray = cv2.cvtColor(image, cv2.COLOR_BGR2GRAY)\n",
    "\n",
    "#高斯慮波\n",
    "#v2.GaussianBlur（ SRC，ksize，sigmaX [，DST [，sigmaY [，borderType ] ] ] ）\n",
    "\n",
    "blurred = cv2.GaussianBlur(gray, (7, 7), 0)\n",
    "\n",
    "#minVal和maxVal\n",
    "edged = cv2.Canny(blurred, 50, 200)\n",
    "cv2.imshow(\"SIFT\", edged)\n",
    "cv2.waitKey(0)\n",
    "cv2.destroyAllWindows()\n",
    "\n"
   ]
  },
  {
   "cell_type": "code",
   "execution_count": 33,
   "metadata": {},
   "outputs": [],
   "source": [
    "( cnts, _) = cv2.findContours(edged.copy(), cv2.RETR_EXTERNAL, cv2.CHAIN_APPROX_SIMPLE)\n",
    "\n",
    "#print(\"I count {} coins in this image\".format(len(cnts)))\n",
    "\n",
    "coins = image.copy()\n",
    "\n",
    "cv2.drawContours(coins, cnts, -1, (0, 255, 0), 2)\n",
    "cv2.imshow(\"SIFT\", coins)\n",
    "cv2.waitKey(0)\n",
    "cv2.destroyAllWindows()"
   ]
  },
  {
   "cell_type": "code",
   "execution_count": 36,
   "metadata": {},
   "outputs": [
    {
     "name": "stdout",
     "output_type": "stream",
     "text": [
      "Part #1\n",
      "Part #2\n",
      "Part #3\n",
      "Part #4\n"
     ]
    }
   ],
   "source": [
    "for (i, c) in enumerate(cnts):\n",
    "\n",
    "    (x, y, w, h) = cv2.boundingRect(c)\n",
    "\n",
    "    print(\"Part #{}\".format(i + 1))\n",
    "\n",
    "    coin = image[y:y + h, x:x + w]\n",
    "\n",
    "    cv2.imshow(\"part\", coin)\n",
    "\n",
    "    mask = np.zeros(image.shape[:2], dtype = \"uint8\")\n",
    "\n",
    "    ((centerX, centerY), radius) = cv2.minEnclosingCircle(c)\n",
    "\n",
    "    cv2.circle(mask, (int(centerX), int(centerY)), int(radius), 255, -1)\n",
    "\n",
    "    mask = mask[y:y + h, x:x + w]\n",
    "    cv2.imshow(\"masked part\",cv2.bitwise_and(coin, coin, mask = mask))\n",
    "    cv2.waitKey(0)\n",
    "    cv2.destroyAllWindows()\n",
    "  "
   ]
  },
  {
   "cell_type": "markdown",
   "metadata": {},
   "source": [
    "ANN\n",
    "==="
   ]
  }
 ],
 "metadata": {
  "kernelspec": {
   "display_name": "Python 3.9.2 64-bit",
   "language": "python",
   "name": "python3"
  },
  "language_info": {
   "codemirror_mode": {
    "name": "ipython",
    "version": 3
   },
   "file_extension": ".py",
   "mimetype": "text/x-python",
   "name": "python",
   "nbconvert_exporter": "python",
   "pygments_lexer": "ipython3",
   "version": "3.9.2"
  },
  "orig_nbformat": 4,
  "vscode": {
   "interpreter": {
    "hash": "27958f768dcca3a929804bc6fbe38aedd46970db20e3e9a2a0a7634f9c4148a3"
   }
  }
 },
 "nbformat": 4,
 "nbformat_minor": 2
}
