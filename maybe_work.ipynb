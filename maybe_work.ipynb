{
 "cells": [
  {
   "cell_type": "code",
   "execution_count": null,
   "metadata": {},
   "outputs": [],
   "source": [
    "def rgb2hsv(color):\n",
    "    color_list=color.tolist()\n",
    "    b,g,r=color_list[0],color_list[1],color_list[2]\n",
    "    r, g, b = r/255.0, g/255.0, b/255.0\n",
    "    mx, mn = max(r, g, b), min(r, g, b)\n",
    "    m = mx-mn\n",
    "    if mx == mn:\n",
    "        h = 0\n",
    "    elif mx == r:\n",
    "        if g >= b:\n",
    "            h = ((g-b)/m)*60\n",
    "        else:\n",
    "            h = ((g-b)/m)*60 + 360\n",
    "    elif mx == g:\n",
    "        h = ((b-r)/m)*60 + 120\n",
    "    elif mx == b:\n",
    "        h = ((r-g)/m)*60 + 240\n",
    "    if mx == 0:\n",
    "        s = 0\n",
    "    else:\n",
    "        s = m/mx\n",
    "    v = mx\n",
    "    return h, s, v\n"
   ]
  },
  {
   "cell_type": "markdown",
   "metadata": {},
   "source": [
    "丟一些測試的代碼"
   ]
  },
  {
   "cell_type": "code",
   "execution_count": 7,
   "metadata": {},
   "outputs": [],
   "source": [
    "##資料庫\n",
    "import pandas as pd\n",
    "import numpy as np\n",
    "\n",
    "title={\n",
    "    \"id\":[],\n",
    "    'name_En':[],\n",
    "    'name_Ch':[],\n",
    "    'color_hist':[]\n",
    "}\n",
    "\n",
    "flower_db=pd.DataFrame(title)\n"
   ]
  },
  {
   "cell_type": "markdown",
   "metadata": {},
   "source": [
    "* tree poppy 樹罌粟\n",
    "* alpine sea holly 海濱刺芹\n",
    "* balloon flower 桔梗\n",
    "* bishop of llandaff 大麗花\n",
    "* black-eyed susan 黑心金光菊\n",
    "* blanket flower 天人菊\n",
    "* californian poppy 花菱草\n",
    "* daisy 雛菊\n",
    "* giant white arum lily 海芋\n",
    "* globe thistle 藍刺頭\n",
    "* iris 鳶尾花\n",
    "* lilac hibiscus 朱槿\n",
    "* orange dahlia 大麗花\n",
    "* osteospermum 藍眼菊\n",
    "* pink-yellow dahlia\n",
    "* poinsettia聖誕紅\n",
    "* purple coneflower 紫錐花\n",
    "* sunflower 向日葵\n",
    "* thorn apple 曼陀羅\n",
    "* tree mallow 花葵\n"
   ]
  },
  {
   "cell_type": "code",
   "execution_count": 8,
   "metadata": {},
   "outputs": [
    {
     "data": {
      "text/html": [
       "<div>\n",
       "<style scoped>\n",
       "    .dataframe tbody tr th:only-of-type {\n",
       "        vertical-align: middle;\n",
       "    }\n",
       "\n",
       "    .dataframe tbody tr th {\n",
       "        vertical-align: top;\n",
       "    }\n",
       "\n",
       "    .dataframe thead th {\n",
       "        text-align: right;\n",
       "    }\n",
       "</style>\n",
       "<table border=\"1\" class=\"dataframe\">\n",
       "  <thead>\n",
       "    <tr style=\"text-align: right;\">\n",
       "      <th></th>\n",
       "      <th>id</th>\n",
       "      <th>name_En</th>\n",
       "      <th>name_Ch</th>\n",
       "      <th>color_hist</th>\n",
       "    </tr>\n",
       "  </thead>\n",
       "  <tbody>\n",
       "  </tbody>\n",
       "</table>\n",
       "</div>"
      ],
      "text/plain": [
       "Empty DataFrame\n",
       "Columns: [id, name_En, name_Ch, color_hist]\n",
       "Index: []"
      ]
     },
     "execution_count": 8,
     "metadata": {},
     "output_type": "execute_result"
    }
   ],
   "source": [
    "flower_db\n",
    "#flower_pic\\iris\\12769.jpeg"
   ]
  },
  {
   "cell_type": "code",
   "execution_count": 48,
   "metadata": {},
   "outputs": [],
   "source": [
    "def GetId(img):\n",
    "    name=img.split(\"/\")\n",
    "    ID=name[-1][:-5]\n",
    "    return ID\n",
    "\n",
    "def GetName(img):\n",
    "    name=img.split(\"/\")\n",
    "    Name=name[-2]\n",
    "    return Name"
   ]
  },
  {
   "cell_type": "code",
   "execution_count": 49,
   "metadata": {},
   "outputs": [
    {
     "data": {
      "text/plain": [
       "'iris'"
      ]
     },
     "execution_count": 49,
     "metadata": {},
     "output_type": "execute_result"
    }
   ],
   "source": [
    "GetName(\"flower_pic/iris/12769.jpeg\")"
   ]
  },
  {
   "cell_type": "code",
   "execution_count": 5,
   "metadata": {},
   "outputs": [],
   "source": [
    "import Flower\n",
    "#Flower.show_match('C:/flowerpic/jpeg-224x224/val/iris/12769.jpeg','C:/flowerpic/jpeg-224x224/val/iris/16301.jpeg')\n"
   ]
  },
  {
   "cell_type": "markdown",
   "metadata": {},
   "source": [
    "邊緣檢測(?)\n",
    "---\n"
   ]
  },
  {
   "cell_type": "code",
   "execution_count": null,
   "metadata": {},
   "outputs": [],
   "source": []
  }
 ],
 "metadata": {
  "kernelspec": {
   "display_name": "Python 3.9.2 64-bit",
   "language": "python",
   "name": "python3"
  },
  "language_info": {
   "codemirror_mode": {
    "name": "ipython",
    "version": 3
   },
   "file_extension": ".py",
   "mimetype": "text/x-python",
   "name": "python",
   "nbconvert_exporter": "python",
   "pygments_lexer": "ipython3",
   "version": "3.9.2"
  },
  "orig_nbformat": 4,
  "vscode": {
   "interpreter": {
    "hash": "27958f768dcca3a929804bc6fbe38aedd46970db20e3e9a2a0a7634f9c4148a3"
   }
  }
 },
 "nbformat": 4,
 "nbformat_minor": 2
}
