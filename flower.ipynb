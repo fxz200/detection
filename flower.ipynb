{
 "cells": [
  {
   "cell_type": "markdown",
   "metadata": {},
   "source": [
    "這邊用來存程式碼\n",
    "===\n",
    "請善用Ctrl+F來查詢所需函式或程式碼\n",
    "---\n",
    "下載完DATA記得改img路徑<br>\n",
    "懶得改就直接丟C槽 <font color=\"red\">然後資料夾名稱flowerpic</font><br>\n",
    "因為我如果全部推github 要很久== 你們下載會更久:)"
   ]
  },
  {
   "cell_type": "markdown",
   "metadata": {},
   "source": [
    "訓練集(DATA):https://www.kaggle.com/datasets/msheriey/104-flowers-garden-of-eden"
   ]
  },
  {
   "cell_type": "markdown",
   "metadata": {},
   "source": [
    "要做的<br>\n",
    "*   訓練辨識系統<br>\n",
    "~Approximate Nearest Neighbor\n",
    "*   資料庫<br>\n",
    "maybe SQL or firebase \n",
    "*   UI介面<br>\n",
    "Kivy?\n"
   ]
  },
  {
   "cell_type": "markdown",
   "metadata": {},
   "source": [
    "訓練辨識系統\n",
    "---\n"
   ]
  },
  {
   "cell_type": "code",
   "execution_count": 5,
   "metadata": {},
   "outputs": [],
   "source": [
    "#import 丟這裡\n",
    "#no moudle 請在終端機 pip install moudle 或是 python -m pip install moudle\n",
    "\n",
    "import pandas as pd\n",
    "import numpy as np\n",
    "import cv2\n",
    "import os\n",
    "from PIL import Image\n",
    "import math\n",
    "import matplotlib.pyplot as plt"
   ]
  },
  {
   "cell_type": "code",
   "execution_count": 6,
   "metadata": {},
   "outputs": [],
   "source": [
    "#HSV即色相、飽和度、明度\n",
    "#https://zh.wikipedia.org/zh-tw/HSL%E5%92%8CHSV%E8%89%B2%E5%BD%A9%E7%A9%BA%E9%97%B4\n",
    "##看顏色##\n",
    "#https://www.peko-step.com/zhtw/tool/hsvrgb.html\n",
    "img=\"C:/flowerpic/jpeg-224x224/val/iris/12769.jpeg\"\n",
    "img=cv2.imread(img)\n",
    "img=cv2.cvtColor(img,cv2.COLOR_BGR2HSV)\n",
    "\n",
    "cv2.imwrite('oxx1.jpeg', img)\n",
    "cv2.waitKey(0)                              \n",
    "cv2.destroyAllWindows()\n",
    "\n"
   ]
  },
  {
   "cell_type": "markdown",
   "metadata": {},
   "source": [
    "PS 中\n",
    "\n",
    "H 範圍在 0 ~ 360 。 S 範圍在 0 ~ 1 % V 範圍在 0 ~ 1 %\n",
    "\n",
    "Python 中\n",
    "\n",
    "H 範圍在 0 ~ 180 S 範圍在 0 ~ 255 V 範圍在 0 ~ 255"
   ]
  },
  {
   "cell_type": "code",
   "execution_count": 7,
   "metadata": {},
   "outputs": [
    {
     "name": "stdout",
     "output_type": "stream",
     "text": [
      "29\n"
     ]
    }
   ],
   "source": [
    "#顏色區分\n",
    "#論文pg21 有空幫我看一下我有沒有寫錯 謝謝\n",
    "HSV=[114, 134, 181]\n",
    "HSV=np.array(HSV)\n",
    "def HSV_differentiate(HSV):\n",
    "    h=HSV[0]*2\n",
    "    s=HSV[1]*100/255\n",
    "    v=HSV[2]*100/255\n",
    "    if  v<20:\n",
    "        l=0\n",
    "    elif s<20 and 20<=v<80 :\n",
    "        l=math.floor(((v/100-0.2)*10))+1   \n",
    "    elif s<20 and 80<=v<=100:\n",
    "        l=7\n",
    "    else:\n",
    "        if h>22 and h<=45:\n",
    "            H=1\n",
    "        elif h>45 and h<=70:\n",
    "            H=2\n",
    "        elif h>70 and h<=155:\n",
    "            H=3\n",
    "        elif h>155 and h<=186:\n",
    "            H=4\n",
    "        elif h>186 and h<=278:\n",
    "            H=5\n",
    "        elif h>278 or h<=330:\n",
    "            H=6\n",
    "        else:H=0\n",
    "        if s>20 and s<=65:\n",
    "            S=0\n",
    "        else:S=1\n",
    "        if v>20 and v<=70:\n",
    "            V=0\n",
    "        else:V=1\n",
    "        l=4*H+2*S+V+8\n",
    "    return l\n",
    "\n",
    "print(HSV_differentiate(HSV))"
   ]
  },
  {
   "cell_type": "code",
   "execution_count": 8,
   "metadata": {},
   "outputs": [
    {
     "data": {
      "text/plain": [
       "50176"
      ]
     },
     "execution_count": 8,
     "metadata": {},
     "output_type": "execute_result"
    }
   ],
   "source": [
    "#像素\n",
    "224*224"
   ]
  },
  {
   "cell_type": "code",
   "execution_count": 9,
   "metadata": {},
   "outputs": [
    {
     "name": "stdout",
     "output_type": "stream",
     "text": [
      "111 124\n"
     ]
    }
   ],
   "source": [
    "#畫出圓形區域\n",
    "def Centroid(img):\n",
    "    img = cv2.imread(img)\n",
    "    gray_image = cv2.cvtColor(img, cv2.COLOR_BGR2GRAY)\n",
    "    ret,thresh = cv2.threshold(gray_image,127,255,0)\n",
    "    M = cv2.moments(thresh)\n",
    "    #質心\n",
    "    cX = int(M[\"m10\"] / M[\"m00\"])\n",
    "    cY = int(M[\"m01\"] / M[\"m00\"])\n",
    "    \n",
    "    if cX>cY:\n",
    "        radius=cY-1\n",
    "    else:radius=cX-1\n",
    "        \n",
    "    cv2.circle(img, (cX, cY), 2, (255, 255, 255), -1)\n",
    "    cv2.circle(img, (cX, cY), radius,(255, 255, 255), 0)\n",
    "    cv2.circle(img, (cX, cY), radius//3,(255, 255, 255), 0)\n",
    "    cv2.circle(img, (cX, cY), radius*2//3,(255, 255, 255), 0)\n",
    "    print(cX,cY)\n",
    " \n",
    "    cv2.imshow(\"Image\", img)\n",
    "    cv2.waitKey(0)\n",
    "  \n",
    "Centroid(\"C:/flowerpic/jpeg-224x224/val/iris/12769.jpeg\")\n",
    "\n"
   ]
  },
  {
   "cell_type": "code",
   "execution_count": 10,
   "metadata": {},
   "outputs": [
    {
     "name": "stdout",
     "output_type": "stream",
     "text": [
      "110\n",
      "103\n"
     ]
    }
   ],
   "source": [
    "##質心半徑\n",
    "def Radius(img):\n",
    "    img = cv2.imread(img)\n",
    "    gray_image = cv2.cvtColor(img, cv2.COLOR_BGR2GRAY)\n",
    "    ret,thresh = cv2.threshold(gray_image,127,255,0)\n",
    "    M = cv2.moments(thresh)\n",
    "    #質心\n",
    "    cX = int(M[\"m10\"] / M[\"m00\"])\n",
    "    cY = int(M[\"m01\"] / M[\"m00\"])\n",
    "    \n",
    "    if cX>cY:\n",
    "        radius=cY-1\n",
    "    else:radius=cX-1\n",
    "    \n",
    "    return radius\n",
    "print(Radius(\"C:/flowerpic/jpeg-224x224/val/iris/12769.jpeg\"))\n",
    "print(Radius(\"C:/flowerpic/jpeg-224x224/val/iris/16301.jpeg\"))"
   ]
  },
  {
   "cell_type": "code",
   "execution_count": 11,
   "metadata": {},
   "outputs": [],
   "source": [
    "#切割圓形區域\n",
    "\n",
    "\n",
    "def Cut(img):\n",
    "    name=img.split(\"/\")\n",
    "    \n",
    "    img_=cv2.imread(img)\n",
    "    img1=cv2.imread((img))\n",
    "    img2=cv2.imread((img))\n",
    "    img3=cv2.imread((img))\n",
    "    #質心半徑\n",
    "    r=Radius(img)\n",
    "    ##遮蓋罩##\n",
    "    ##最大\n",
    "    #MASK1=np.zeros_like(img1)\n",
    "    MASK1=np.zeros((img1.shape[0], img1.shape[1]), dtype=np.uint8) \n",
    "    cv2.circle(MASK1, (111,124), r, (255, 255, 255), -1) \n",
    "    ##次之\n",
    "    #MASK2=np.zeros_like(img2)\n",
    "    MASK2=np.zeros((img2.shape[0], img2.shape[1]), dtype=np.uint8) \n",
    "    cv2.circle(MASK2, (111,124), r*2//3, (255, 255, 255), -1)\n",
    "\n",
    "    ##最小 \n",
    "    #MASK3=np.zeros_like(img3)\n",
    "    MASK3=np.zeros((img3.shape[0], img3.shape[1]), dtype=np.uint8) \n",
    "    cv2.circle(MASK3, (111,124), r//3, (255, 255, 255), -1)\n",
    "    mask2 = cv2.subtract(MASK2, MASK3)\n",
    "    mask1 = cv2.subtract(MASK1, MASK2)\n",
    "    \n",
    "    imgAddMask1 = cv2.add(img1, np.zeros(np.shape(img1), dtype=np.uint8), mask=mask1)\n",
    "    imgAddMask2 = cv2.add(img2, np.zeros(np.shape(img2), dtype=np.uint8), mask=mask2)\n",
    "    imgAddMask3 = cv2.add(img3, np.zeros(np.shape(img3), dtype=np.uint8), mask=MASK3)\n",
    "    cv2.imwrite(\"cuts/cut1_\"+name[-2]+\"_\"+name[-1], imgAddMask1)\n",
    "    cv2.imwrite(\"cuts/cut2_\"+name[-2]+\"_\"+name[-1], imgAddMask2)\n",
    "    cv2.imwrite(\"cuts/cut3_\"+name[-2]+\"_\"+name[-1], imgAddMask3)\n",
    "    \n",
    "    \n",
    "Cut(\"C:/flowerpic/jpeg-224x224/val/iris/12769.jpeg\")\n",
    "Cut(\"C:/flowerpic/jpeg-224x224/val/iris/16301.jpeg\")\n",
    "# r=110\n",
    "\n",
    "# img=\"C:/flowerpic/jpeg-224x224/val/iris/12769.jpeg\"\n",
    "# img_=cv2.imread(img)\n",
    "# img1 = cv2.imread(img)\n",
    "# img2 = cv2.imread(img)\n",
    "# img3 = cv2.imread(img)\n",
    "\n",
    "# ##最大\n",
    "# #MASK1=np.zeros_like(img1)\n",
    "# MASK1=np.zeros((img1.shape[0], img1.shape[1]), dtype=np.uint8) \n",
    "# cv2.circle(MASK1, (111,124), r, (255, 255, 255), -1) \n",
    "# ##次之\n",
    "# #MASK2=np.zeros_like(img2)\n",
    "# MASK2=np.zeros((img2.shape[0], img2.shape[1]), dtype=np.uint8) \n",
    "# cv2.circle(MASK2, (111,124), r*2//3, (255, 255, 255), -1)\n",
    "\n",
    "# ##最小 \n",
    "# #MASK3=np.zeros_like(img3)\n",
    "# MASK3=np.zeros((img3.shape[0], img3.shape[1]), dtype=np.uint8) \n",
    "# cv2.circle(MASK3, (111,124), r//3, (255, 255, 255), -1)\n",
    "\n",
    "# mask2 = cv2.subtract(MASK2, MASK3)\n",
    "# mask1 = cv2.subtract(MASK1, MASK2)\n",
    "# # # ROI\n",
    "# # result2 = cv2.cvtColor(img2, cv2.COLOR_BGR2BGRA)\n",
    "# # result2[:, :, 3] = mask2[:,:,0]\n",
    "# # #cv2.imshow('image', result2)\n",
    "# # #cv2.imshow('mask2', mask2)\n",
    "# # cv2.imwrite('result2.png', result2)\n",
    "\n",
    "# # result1 = cv2.cvtColor(img1, cv2.COLOR_BGR2BGRA)\n",
    "# # result1[:, :, 3] = mask1[:,:,0]\n",
    "# # #cv2.imshow('image', result1)\n",
    "# # #cv2.imshow('mask1', mask1)\n",
    "# # cv2.imwrite('result1.png', result1)\n",
    "\n",
    "# # result3 = cv2.cvtColor(img3, cv2.COLOR_BGR2BGRA)\n",
    "# # result3[:, :, 3] = MASK3[:,:,0]\n",
    "# # #cv2.imshow('image', result3)\n",
    "# # #cv2.imshow('mask3', MASK3)\n",
    "# # cv2.imwrite('result3.png', result3)\n",
    "\n",
    "# imgAddMask1 = cv2.add(img1, np.zeros(np.shape(img1), dtype=np.uint8), mask=mask1)\n",
    "# imgAddMask2 = cv2.add(img2, np.zeros(np.shape(img2), dtype=np.uint8), mask=mask2)\n",
    "# imgAddMask3 = cv2.add(img3, np.zeros(np.shape(img3), dtype=np.uint8), mask=MASK3)\n",
    "# cv2.imshow(\"circularMask\", mask1)  \n",
    "# cv2.imshow(\"circularROI\", imgAddMask1)\n",
    "# cv2.imshow(\"circularMask2\", mask2)  \n",
    "# cv2.imshow(\"circularROI2\", imgAddMask2)\n",
    "# cv2.imshow(\"circularMask3\", MASK3)  \n",
    "# cv2.imshow(\"circularROI3\", imgAddMask3)\n",
    "# cv2.imwrite('cut1.jpeg', imgAddMask1)\n",
    "# cv2.imwrite('cut2.jpeg', imgAddMask2)\n",
    "# cv2.imwrite('cut3.jpeg', imgAddMask3)\n",
    "# cv2.waitKey()\n",
    "# cv2.destroyAllWindows()"
   ]
  },
  {
   "cell_type": "code",
   "execution_count": 12,
   "metadata": {},
   "outputs": [
    {
     "data": {
      "image/png": "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",
      "text/plain": [
       "<Figure size 432x288 with 3 Axes>"
      ]
     },
     "metadata": {
      "needs_background": "light"
     },
     "output_type": "display_data"
    }
   ],
   "source": [
    "#色彩直方圖\n",
    "  \n",
    "def Color_hist(cut1,cut2,cut3):\n",
    "    img1 = cv2.imread(cut1)\n",
    "    img2 = cv2.imread(cut2)\n",
    "    img3 = cv2.imread(cut3)\n",
    "    \n",
    "    img1_=cv2.cvtColor(img1,cv2.COLOR_BGR2HSV)\n",
    "    img2_=cv2.cvtColor(img2,cv2.COLOR_BGR2HSV)\n",
    "    img3_=cv2.cvtColor(img3,cv2.COLOR_BGR2HSV)\n",
    "    \n",
    "    ##刪除純黑## \n",
    "    black=np.array([0,0,0])\n",
    "    color_list_1_no_black=[]\n",
    "    color_list_2_no_black=[]\n",
    "    color_list_3_no_black=[]\n",
    "    \n",
    "    for i in img1_:\n",
    "        for k in i:\n",
    "            if k.any() == black.any():\n",
    "                continue\n",
    "            else:\n",
    "                color_list_1_no_black.append(k)\n",
    "                #print(k)\n",
    "    for i in img2_:\n",
    "        for k in i:\n",
    "            if k.any() == black.any():\n",
    "                continue\n",
    "            else:\n",
    "                color_list_2_no_black.append(k)\n",
    "                #print(k)\n",
    "    for i in img3_:\n",
    "        for k in i:\n",
    "            if k.any() == black.any():\n",
    "                continue\n",
    "            else:\n",
    "                color_list_3_no_black.append(k)\n",
    "                #print(k)    \n",
    "\n",
    "    color_hist_1=[]\n",
    "    for i in color_list_1_no_black:\n",
    "        color_hist_1.append(HSV_differentiate(i))\n",
    "    plt.subplot(131) \n",
    "    plt.hist(color_hist_1)\n",
    "\n",
    "    color_hist_2=[]\n",
    "    for i in color_list_2_no_black:\n",
    "        color_hist_2.append(HSV_differentiate(i))\n",
    "    plt.subplot(132) \n",
    "    plt.hist(color_hist_2)\n",
    "\n",
    "\n",
    "    color_hist_3=[]\n",
    "    for i in color_list_3_no_black:\n",
    "        color_hist_3.append(HSV_differentiate(i))\n",
    "    plt.subplot(133) \n",
    "    plt.hist(color_hist_3)\n",
    "\n",
    "\n",
    "    return color_hist_1,color_hist_2,color_hist_3\n",
    "H1_12769,H2_12769,H3_12769=Color_hist('cuts/cut1_iris_12769.jpeg','cuts/cut2_iris_12769.jpeg','cuts/cut3_iris_12769.jpeg')   \n",
    "#H1_16301,H2_16301,H3_16301=Color_hist('cut1_iris_16301.jpeg','cut2_iris_16301.jpeg','cut3_iris_16301.jpeg')  \n",
    "# img1 = cv2.imread(\"cut1_iris_12769.jpeg\")\n",
    "# img2 = cv2.imread(\"cut2_iris_12769.jpeg\")\n",
    "# img3 = cv2.imread(\"cut3_iris_12769.jpeg\")\n",
    "# #cv2.imshow('result3.png',img2)\n",
    "# ##no change\n",
    "# img1_=cv2.cvtColor(img1,cv2.COLOR_BGR2HSV)\n",
    "# img2_=cv2.cvtColor(img2,cv2.COLOR_BGR2HSV)\n",
    "# img3_=cv2.cvtColor(img3,cv2.COLOR_BGR2HSV)\n",
    "# #cv2.imshow('result3.png',img2_)\n",
    "# cv2.waitKey()\n",
    "# cv2.destroyAllWindows()\n",
    "# ##刪除純黑## \n",
    "\n",
    "# black=np.array([0,0,0])\n",
    "# color_list_1_no_black=[]\n",
    "# color_list_2_no_black=[]\n",
    "# color_list_3_no_black=[]\n",
    "# #color_list_1_no_black=np.ndarray(color_list_1_no_black)\n",
    "\n",
    "\n",
    "# for i in img1_:\n",
    "#     for k in i:\n",
    "#         if k.any() == black.any():\n",
    "#             continue\n",
    "#         else:\n",
    "#             color_list_1_no_black.append(k)\n",
    "#             #print(k)\n",
    "# for i in img2_:\n",
    "#     for k in i:\n",
    "#         if k.any() == black.any():\n",
    "#             continue\n",
    "#         else:\n",
    "#             color_list_2_no_black.append(k)\n",
    "#             #print(k)\n",
    "# for i in img3_:\n",
    "#     for k in i:\n",
    "#         if k.any() == black.any():\n",
    "#             continue\n",
    "#         else:\n",
    "#             color_list_3_no_black.append(k)\n",
    "#             #print(k)    \n",
    "\n",
    "# color_hist_1=[]\n",
    "# for i in color_list_1_no_black:\n",
    "#     color_hist_1.append(HSV_differentiate(i))\n",
    "# plt.subplot(131) \n",
    "# plt.hist(color_hist_1)\n",
    "\n",
    "# color_hist_2=[]\n",
    "# for i in color_list_2_no_black:\n",
    "#     color_hist_2.append(HSV_differentiate(i))\n",
    "# plt.subplot(132) \n",
    "# plt.hist(color_hist_2)\n",
    "\n",
    "\n",
    "# color_hist_3=[]\n",
    "# for i in color_list_3_no_black:\n",
    "#     color_hist_3.append(HSV_differentiate(i))\n",
    "# plt.subplot(133) \n",
    "# plt.hist(color_hist_3)\n",
    "\n",
    "\n",
    "# # color_list_1=[]\n",
    "# # for i in img1:\n",
    "# #     for k in i:\n",
    "# #         color_list_1.append(HSV_differentiate(k))\n",
    "\n",
    "# # color_list_1\n",
    "# # plt.subplot(131)    \n",
    "# # plt.hist(color_list_1)\n",
    "# # color_list_2=[]\n",
    "# # for i in img2:\n",
    "# #     for k in i:\n",
    "# #         color_list_2.append(HSV_differentiate(k))\n",
    "\n",
    "# # color_list_2 \n",
    "# # plt.subplot(132)      \n",
    "# # plt.hist(color_list_2)\n",
    "# # color_list_3=[]\n",
    "# # for i in img3:\n",
    "# #     for k in i:\n",
    "# #         color_list_3.append(HSV_differentiate(k))\n",
    "\n",
    "# # color_list_3    \n",
    "# # plt.subplot(133)   \n",
    "# # plt.hist(color_list_3)\n"
   ]
  },
  {
   "cell_type": "markdown",
   "metadata": {},
   "source": [
    "* 相關性比較<br>\n",
    "0~1 越大相關性越高\n",
    "* 巴氏距離<br>\n",
    "0~1 越小相關度越高<br>\n",
    "參考:http://shichaoxin.com/2021/08/27/OpenCV%E5%9F%BA%E7%A1%80-%E7%AC%AC%E4%BA%8C%E5%8D%81%E4%B8%89%E8%AF%BE-%E7%9B%B4%E6%96%B9%E5%9B%BE%E6%AF%94%E8%BE%83/"
   ]
  },
  {
   "cell_type": "code",
   "execution_count": 13,
   "metadata": {},
   "outputs": [],
   "source": [
    "##直方圖交集\n",
    "\n",
    "\n",
    "\n",
    "def Compare_Hist(h1,h2):\n",
    "    H1=plt.hist(h1,108,(0,108))\n",
    "    H2=plt.hist(h2,108,(0,108))\n",
    "\n",
    "    H1_array=H1[0]\n",
    "    H1_array=H1_array[:,np.newaxis]\n",
    "    H2_array=H2[0]\n",
    "    H2_array=H2_array[:,np.newaxis]\n",
    "    H1_array=np.float32(H1_array)\n",
    "    H2_array=np.float32(H2_array)\n",
    "    corr=(cv2.compareHist(H1_array,H2_array , method=0))#HISTCMP_CORREL\n",
    "    dis=(cv2.compareHist(H1_array,H2_array , method=cv2.HISTCMP_BHATTACHARYYA))#巴氏距離\n",
    "    \n",
    "    return corr ,dis\n",
    "\n",
    "# HH=plt.hist(H1_12769,36,(0,36))\n",
    "# hh=plt.hist(H1_16301,36,(0,36))\n",
    "\n",
    "# H=HH[0]\n",
    "# H=H[:,np.newaxis]\n",
    "# h=hh[0]\n",
    "# h=h[:,np.newaxis]\n",
    "# H=np.float32(H)\n",
    "# h=np.float32(h)\n",
    "# print(cv2.compareHist(H,h , method=0))#HISTCMP_CORREL\n",
    "# print(cv2.compareHist(H,h , method=cv2.HISTCMP_BHATTACHARYYA))#巴氏距離\n"
   ]
  },
  {
   "cell_type": "code",
<<<<<<< HEAD
   "execution_count": 63,
=======
   "execution_count": 14,
>>>>>>> 3a2677adc3fc2aa4e6697d83343786b9e81b84f6
   "metadata": {},
   "outputs": [
    {
     "data": {
<<<<<<< HEAD
      "image/png": "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",
=======
      "image/png": "iVBORw0KGgoAAAANSUhEUgAAAYQAAAD4CAYAAADsKpHdAAAAOXRFWHRTb2Z0d2FyZQBNYXRwbG90bGliIHZlcnNpb24zLjQuMywgaHR0cHM6Ly9tYXRwbG90bGliLm9yZy/MnkTPAAAACXBIWXMAAAsTAAALEwEAmpwYAAAjsklEQVR4nO3de3SV9Z3v8fdXUKatoIIEN2w4YUrUEKThskDXMCxsThxqXUkFpDDMNAxUR1rXqbdZjWWtqZ61qLHnWKWVOnUalxnbAbUKYVWMjaGOZxiRAUELoUxE6JC4C7bBAipI4vf8sZ8ddsjO/bYvn9daWXnyfS55Hn+R7/79nt/F3B0REZELBvsGREQkOSghiIgIoIQgIiIBJQQREQGUEEREJDB0sG+gpy6//HLPzs4e7NsQYNeuXX9w99F9cS2Va/JQuaanjso1ZRNCdnY2O3fuHOzbEMDMftdX11K5Jg+Va3rqqFzVZCQiIoASgoiIBJQQREQEUEIQEZGAEoKIiABKCCIiElBCyFArVqwgKyuLKVOmtMT+4R/+gauvvpqpU6dy880388EHH7Tse/DBB5k0aRJXXXUVL7/8ckt8165dAJPN7B0z+6GZGYCZDTOzZ4L4G2aWPUCPJiI9pISQoZYvX05VVVWrWGFhIXv37uXtt9/myiuv5MEHHwSgtraWDRs2sG/fPqqqqvjGN75Bc3MzAKtWrQL4HZATfM0PLrcSOO7uk4BHgIcG4rlEpOeUEDLU3LlzGTlyZKvYDTfcwNCh0bGK1157LfX19QBUVlayZMkShg0bxsSJE5k0aRI7duwgEolw4sQJgA89urDGvwBfCS5XDFQE278ACmK1BxFJTik7UjmR7NIXOz3mcNmXB+BOUt+TTz7JV7/6VQAaGhq49tprW/aFw2EaGhq48MILCYfDHDhwILarHhgXbI8DjgC4e5OZ/QkYBfzh/N9lZrcBtwFMmDChzb2oXNOTyjX5qIYgbaxZs4ahQ4eybNkyABKtqmdmCeNALJioNpD4BPcn3H2mu88cPbpPps4RkR5IqxqC9F5FRQW//OUvqampIdbCEw6HOXLkSMsx9fX1jB07lnA43NKsFAgD78UOA8YD9WY2FLgEaByIZxCRnum0hmBm483s12a238z2mdm3gvhIM6s2s7rg+2Vx59wX9C45YGZ/FRefYWa/UY+U5FRVVcVDDz3E5s2b+exnP9sSLyoqYsOGDZw5c4ZDhw5RV1fHrFmzCIVCDB8+HOBzQVl+DagMTtsMlATbi4CtrgW8RZJaV5qMmoB73D0XuBb4pplNBkqBGnfPAWqCnwn2LQHyiPY4+bGZDQmu9TjRtmL1SBlkS5cu5brrruPAgQOEw2HKy8u54447OHnyJIWFheTn53P77bcDkJeXx+LFi5k8eTLz589n3bp1DBkSLdLHH38cIBt4BzgIvBT8inJglJm9A9xN8PchIsmr0yYjd48AkWD7pJntJ/rCsBiYFxxWAbwKfDuIb3D3M8Ch4B+EWWZ2GBjh7q8DmFmsR8pLwTn3B9f6BfCYmZk+Ufaf9evXt4mtXLmy3eNXr17N6tWr28RnzpwJsM/dZ8bH3f00cEtv71NEBk63XioHTTnTgDeAMUGyiCWNrOCwlt4lgVjPk3HB9vnxVue4exMQ65Fy/u+/zcx2mtnO999/vzu3LiIinehyQjCzi4HngTvd/URHhyaIeQfxjs5pHVBvFBGRftOlhGBmFxJNBj939xeC8FEzCwX7Q8CxIB7rXRIT63lSH2yfH291jnqkiIgMjq70MjKiLwj3u/sP4nbF9yIpoXXvkiVBz6GJRF8e7wialU6a2bXqkSIikny6UkP4C+BvgS+a2Z7g60agDCg0szqgMPgZd98HPAvUAlXAN929ObjWKuCnqEeKyIA7ffo0s2bN4gtf+AJ5eXl897vfBaCxsZHCwkJycnIoLCzk+PHjLed0twu5pLau9DL6dxK38QMUtHPOGmBNgvhOYEqCuHqkiPSzYcOGsXXrVi6++GLOnj3LnDlz+NKXvsQLL7xAQUEBpaWllJWVUVZWxkMPPQTwZ5zrQj4WeMXMrgw+4MW6kG8HthDtQv5S4t8sqUJTV4hkCDPj4osvBuDs2bOcPXsWM6OyspKSkmiLbUlJCZs2bYqdcilBF3J3P0S0Zj8reGc4wt1fTzCpoaQwJQSRDNLc3Ex+fj5ZWVkUFhYye/Zsjh49SigUAiAUCnHsWKx/CBfR/S7kLdRNPPUoIYhkkCFDhrBnzx7q6+vZsWMHe/fu7e4lOutCfi6gbuIpRwlBJANdeumlzJs3j6qqKsaMGUMkEgEgEomQlRUbY8ondL8LuaQwJQSRDPH++++3LIv68ccf88orr3D11VdTVFRERUV0LaOKigqKi4tjp3xA97uQSwrT9NciGSISiVBSUkJzczOffvopixcv5qabbuK6665j8eLFlJeXM2HCBJ577rnYKaeBjUS7kDfRtgv5U8BniPYuUg+jNKCEIJIhpk6dyu7du9vER40aRU1NTcJzutuFXFKbmoxERARQQhARkYASgoiIAEoIIiISUEIQERFACUFERAJKCCIiAighiIhIQAlBRESAri2h+aSZHTOzvXGxZ+JWTztsZnuCeLaZfRy375/izkm4wlIwT8ozQfwNM8vu+8cUEZHOdKWG8BTR1ZBauPtX3T3f3fOB54EX4nYfjO1z99vj4rEVlnKCr9g1VwLH3X0S8AjwUE8eREREeqfThODurwGNifYFn/IXA+s7ukYnKywVAxXB9i+AAq3PKiIy8Hr7DuEvgaPuXhcXm2hmu83s38zsL4NYRyssjSNYlcndm4A/AaMS/TKtwNR3VqxYQVZWFlOmnJufrKPF1h988EEmTZrEVVddxcsvv9wS37VrF8BkNQWKpL7eJoSltK4dRIAJ7j4NuBv4VzMbQccrLHVp9SXQCkx9afny5VRVVbWKlZWVUVBQQF1dHQUFBZSVlQFQW1vLhg0b2LdvH1VVVXzjG9+guTk6C/KqVasAfoeaAkVSXo8TgpkNBRYAz8RiwWLcfwy2dwEHgSvpeIWleoJVmYJrXkI7TVTSd+bOncvIkSNbxdpbbL2yspIlS5YwbNgwJk6cyKRJk9ixYweRSIQTJ04AfKimQJHU15sawv8EfuvuLU1BZjbazIYE239O9BPju52ssLQZKAm2FwFbg39cZIC1t9h6Q0MD48efW0kxHA7T0NBAQ0MD4XB8nldToEgq60q30/XA68BVZlZvZiuDXUto+zJ5LvC2mb1F9FPh7e4e+7S/Cvgp8A7RmkNshaVyYJSZvUO0mam0F88j/SBRfjazhHHUFCiSsjpdMc3dl7YTX54g9jzRbqiJjk+4wpK7nwZu6ew+pP/FFlsPhUKtFlsPh8McOXKk5bj6+nrGjh1LOBymvj6+r0DCpsB6NQWKpAaNVJYW7S22XlRUxIYNGzhz5gyHDh2irq6OWbNmEQqFGD58OMDn1BQokvqUEDLU0qVLue666zhw4ADhcJjy8nJKS0uprq4mJyeH6upqSkujrXd5eXksXryYyZMnM3/+fNatW8eQIUMAePzxxwGyUVOgSMrrtMlI0tP69YnHEra32Prq1atZvXp1m/jMmTMB9rn7zPi4mgJFUo9qCCIiAighiIhIQAlBJEMcOXKE66+/ntzcXPLy8li7di0A999/P+PGjSM/P5/8/Hy2bNnSco6Z3RdMP3LAzP4qLp5w9mJJbXqHIJIhhg4dysMPP8z06dM5efIkM2bMoLCwEIC77rqLe++99/xT/ozoeKM8YCzwipld6e7NnJu9eDuwheiUJS+dfwFJLaohiGSIUCjE9OnTARg+fDi5ubk0NDR0dMqlwIZgSppDRHuSzepk9mJJYUoIIhno8OHD7N69m9mzZwPw2GOPMXXqVFasWBE/y+1FBNOPBGJTk3Q0e7GkMCUEkQxz6tQpFi5cyKOPPsqIESNYtWoVBw8eZM+ePYRCIe65556OTne6OC2J5qhKPUoIIhnk7NmzLFy4kGXLlrFgwQIgOmXJkCFDuOCCC7j11lvZsWNH7PBPCGYiDsSmJulo9uIWmqMq9SghiGQId2flypXk5uZy9913t8QjkUjL9saNG+MXTfoAWBIsdjSR6OzFOzqZvVhSmHoZiWSIbdu28fTTT3PNNdeQn58PwPe+9z3Wr1/Pnj17MDOys7P5yU9+EjvlNLARqAWagG8GPYwgOnvxU8BniPYuUg+jNKCEIJIh5syZk3DK8htvvLHdc9x9DbAmQTzh7MWS2tRkJCIigBKCiIgEurJi2pNmdszM9sbF7jezBjPbE3zdGLevW0PdgxdWzwTxN8wsu4+fUUREuqArNYSniA5LP98j7p4ffG0BMLPJnBvqPh/4cWyNZc4Ndc8JvmLXXAkcd/dJwCPAQz18FhER6YVOE4K7v0bXlz4spvtD3YuBimD7F0CBJsoSERl4vXmHcIeZvR00KV0WxMbR/aHuLee4exPwJ2BUol+okY8iIv2npwnhceDzQD4QAR4O4u0Nae9oqHuXhsGDRj6KiPSnHiUEdz/q7s3u/inwz8CsYFc93R/q3nKOmQ0FLqHrTVQiItJHepQQgncCMTcDsR5Im+n+UPfNQEmwvQjY6olGz4iISL/qdKSyma0H5gGXm1k98F1gnpnlE23aOQz8PYC77zOzZ+neUPdy4Gkze4dozWBJHzyXiIh0U6cJwd2XJgiXd3B8t4a6u/tp4JbO7kNERPqXRiqLiAighCAiIgElBBERAZQQREQkoIQgbTzyyCPk5eUxZcoUli5dyunTp2lsbKSwsJCcnBwKCwvjF2IHuKI7ExqKSHJSQpBWGhoa+OEPf8jOnTvZu3cvzc3NbNiwgbKyMgoKCqirq6OgoICysjIAamtrAUbSvQkNRSQJKSFIG01NTXz88cc0NTXx0UcfMXbsWCorKykpiY4fLCkpYdOmTQBUVlYCNHZzQkMRSUJKCNLKuHHjuPfee5kwYQKhUIhLLrmEG264gaNHjxIKRQeoh0Ihjh07BkRrFMAncZfoyoSGrWjSQpHkoIQgrRw/fpzKykoOHTrEe++9x4cffsjPfvazdo9vZ5aRziY0PP8amrRQJAkoIUgrr7zyChMnTmT06NFceOGFLFiwgP/4j/9gzJgxRCIRACKRCFlZWQCEw2GAi+Iu0ZUJDUUkCSkhSCsTJkxg+/btfPTRR7g7NTU15ObmUlRUREVFdB2jiooKiouLASgqKgIY2c0JDUUkCXU6l5FkltmzZ7No0SKmT5/O0KFDmTZtGrfddhunTp1i8eLFlJeXM2HCBJ577jkA8vLyIDopYXcmNBSRJKSEIG088MADPPDAA61iw4YNo6ampr1Tfu/uM88PtjehoYgkJzUZiWSII0eOcP3115Obm0teXh5r164F6HDQoZndp0GHmUMJQSRDDB06lIcffpj9+/ezfft21q1bR21tbbuDDoE/I7o+iQYdZgglBJEMEQqFmD59OgDDhw8nNzeXhoaGdgcdApcCGzToMHN0mhDM7EkzO2Zme+Ni/8fMfmtmb5vZRjO7NIhnm9nHZrYn+PqnuHMSVjGD3inPBPE3zCy77x9TROIdPnyY3bt3M3v27HYHHRLtTnwk7rRuDTrUgMPU05UawlO0rQ5WA1PcfSrwX8B9cfsOunt+8HV7XLy9KuZK4Li7TwIeAR7q9lOISJedOnWKhQsX8uijjzJixIjunt7lQYcacJh6Ok0I7v4a0W6F8bFfuXtT8ON2Wg9AaqOTKmYxUBFs/wIo0Asqkf5x9uxZFi5cyLJly1iwYAFAu4MOiU5JMj7udA06THN98Q5hBa37l080s91m9m9m9pdBrKMq5jiCammQZP4EjEr0i1QFFek5d2flypXk5uZy9913t8TbG3QIfAAs0aDDzNGrcQhmtproYKSfB6EIMMHd/2hmM4BNZpZHx1XMbs15AzwBMHPmzITHiEhi27Zt4+mnn+aaa64hPz8fgO9973uUlpYmHHQInAY2okGHGaPHCcHMSoCbgIKgGQh3PwOcCbZ3mdlB4Eo6rmLWE62W1pvZUOASzmuiEpHemzNnTnuTEbY76NDd1wBrEsQ16DAN9ajJyMzmA98Gitz9o7j46Fg/ZTP7c6JVzHc7qWJuBkqC7UXAVm/vr1ZERPpNpzUEM1sPzAMuN7N64LtEexUNA6qD97/bgx5Fc4H/bWZNQDNwu7vHPu23V8UsB542s3eI1gyW9MmTiYhIt3SaENx9aYJweTvHPg88386+hFVMdz8N3NLZfYiISP/SSGUREQGUEEREJKCEICIigBKCiIgElBBERARQQhARkYASgoiIAEoIIiISUEIQERFACUFERAJKCCIiAighiIhIQAlBREQAJQRJ4IMPPmDRokVcffXV5Obm8vrrr9PY2EhhYSE5OTkUFhZy/Pjx+FOuMLN3zOyAmf1VLGhmM8zsN8G+H2qtbJHkpoQgbXzrW99i/vz5/Pa3v+Wtt94iNzeXsrIyCgoKqKuro6CggLKyMgBqa2sBRgJ5wHzgx7FFkoDHgduILpSUE+wXkSSlhCCtnDhxgtdee42VK1cCcNFFF3HppZdSWVlJSUl0YbuSkhI2bdoEQGVlJUCju59x90PAO8AsMwsBI9z99WAFvH8BvjLQzyMiXddpQjCzJ83smJntjYuNNLNqM6sLvl8Wt+++7jQfmNkwM3smiL9hZtl9/IzSDe+++y6jR4/m7/7u75g2bRpf//rX+fDDDzl69CihUAiAUCjEsWPHAGhoaAD4JO4S9cC44Ks+QbwNM7vNzHaa2c7333+/7x9KRLqkKzWEp2hb1S8Fatw9B6gJfsbMJhNdArM7zQcrgePuPgl4BHiopw8jvdfU1MSbb77JqlWr2L17N5/73OdamocSaWf5awcSvS9IfLD7E+4+091njh49ukf3LSK915UlNF9L8Km9mOg6ywAVwKvAt4P4Bnc/AxwK1kmeZWaHCZoPAMws1nzwUnDO/cG1fgE8Zmbm7fxLI/0rHA4TDoeZPXs2AIsWLaKsrIwxY8YQiUQIhUJEIhGysrJajgcuir8E8B7RGkE4QVxEOpFd+mKnxxwu+3Kf/96evkMY4+4RgOB7VhAfBxyJO64rzQct57h7E/AnYFSiX6qmhf53xRVXMH78eA4cOABATU0NkydPpqioiIqKCgAqKiooLi4GoKioCGBk0PQ3kWjtb0fwd3HSzK4Nmge/BlQO/BOJSFf19Uvl9poJOmo+UNNCkvnRj37EsmXLmDp1Knv27OE73/kOpaWlVFdXk5OTQ3V1NaWlpQDk5eUBNAK1QBXwTXdvDi61Cvgp0RfNB4nWCGWQrFixgqysLKZMmdISu//++xk3bhz5+fnk5+ezZcuW+FPUnTjDdNpk1I6jZhZy90jQm+RYEK8Hxscd15Xmg9g59WY2FLiE6D8wMkjy8/PZuXNnm3hNTU17p/ze3WeeH3T3ncCUBMfLIFi+fDl33HEHX/va11rF77rrLu69995WsbjuxJcBY4FXzOzKINnH3gduB7YQfR+oZJ8GelpD2AyUBNslnGsK2Aws6WbzQfy1FgFb9f5ApO/NnTuXkSNHdulYdSfOTF3pdroeeB24yszqzWwlUAYUmlkdUBj8jLvvA56le80H5cCo4AX03QQ9lkRkYDz22GNMnTqVFStWtIxAV3fizNRpQnD3pe4ecvcL3T3s7uXu/kd3L3D3nOB7Y9zxa9z98+5+lbu/FBff6e5Tgn13xGoB7n7a3W9x90nuPsvd3+2fRxWR861atYqDBw+yZ88eQqEQ99xzD6DuxJlKI5VFMtiYMWMYMmQIF1xwAbfeeis7duwA1J04UykhiGSwSCTSsr1x48aWHkjqTpyZetrLSERSzNKlS3n11Vf5wx/+QDgc5oEHHuDVV19lz549mBnZ2dn85Cc/Adp0J26i7fvAp4DPEH0XqB5GaUIJQSRDrF+/vk0sNolhO9SdOMOoyUhERAAlBBERCSghiIgIoIQgIiIBJQQREQGUEEREJKCEICIigBKCiIgElBBERARQQhARkYASgoiIAEoIIiIS6HFCMLOrzGxP3NcJM7vTzO43s4a4+I1x59ynRbtFRJJTjxOCux9w93x3zwdmAB8BG4Pdj8T2ufsWADObDCwB8oguyv1jMxsSHB9btDsn+Jrf0/sSEZGe6asmowLgoLv/roNjioENWrRbRCQ59VVCWALET7Z+h5m9bWZPmtllQWwccCTuGC3aLSKSRHqdEMzsIqAIeC4IPQ58HsgHIsDDsUMTnK5Fu0VEkkRf1BC+BLzp7kcB3P2ouze7+6fAPwOzguPqgfFx52nRbhGRJNIXCWEpcc1FwTuBmJuBvcH2ZmCJFu0WEUlOvUoIZvZZoBB4IS78/aAL6dvA9cBdAO6+D3iW6KLdVbRdtPunRF80H0SLdg+65uZmpk2bxk033QRAY2MjhYWF5OTkUFhYyPHjx+MPv0LdiUVSX68Sgrt/5O6j3P1PcbG/dfdr3H2quxcFNYDYvjXu/nl3v8rdX4qL73T3KcG+O4LeRjKI1q5dS25ubsvPZWVlFBQUUFdXR0FBAWVlZQDU1tYCjETdiUVSnkYqSxv19fW8+OKLfP3rX2+JVVZWUlJSAkBJSQmbNm1qiQON6k4skvqUEKSNO++8k+9///tccMG5P4+jR48SCkVfD4VCIY4dOwZAQ0MDwCdxp6s7sUiKUkKQVn75y1+SlZXFjBkzunR8O6176k6chFasWEFWVhZTpkxpiendkMRTQpBWtm3bxubNm8nOzmbJkiVs3bqVv/mbv2HMmDFEItHXQZFIhKysLADC4TDARXGXUHfiJLV8+XKqqqpaxfRuSOIpIUgrDz74IPX19Rw+fJgNGzbwxS9+kZ/97GcUFRVRUVEBQEVFBcXFxQAUFRUBjFR34uQ3d+5cRo4c2Sqmd0MSb+hg34CkhtLSUhYvXkx5eTkTJkzgueeiA9Pz8vIAGol2J26ibXfip4DPEO1KrO7ESaYH74bO0o13Q0RrEkyYMKGP71z6gxKCtGvevHnMmzcPgFGjRlFTU9Peob9395nnB919JzAlwfGS5Prq3RDwBMDMmTPVlTwFqMlIJIPp3ZDEU0IQyWB6NyTxlBBEMsTSpUu57rrrOHDgAOFwmPLyckpLS6muriYnJ4fq6mpKS0uBNu+GNNVMhtA7BJEMsX79+oRxvRuSGNUQREQEUEIQEZGAEoKIiABKCCIiElBCEBERoPcrph0OZj3cY2Y7g9hIM6s2s7rg+2Vxx9+n2RNFRJJTX9QQrnf3/LjuaaVAjbvnADXBz5jZZGAJmj1RRCQp9cc4hGJgXrBdAbwKfDuIb3D3M8AhM4vNnniYYPZEADOLzZ6owS4ifSC79MVOjzlc9uUBuBNJdr2tITjwKzPbFcxsCDAmto5y8D0riI8DjsSd2+2VtUREpP/0tobwF+7+npllAdVm9tsOjm1vlsQuz56o6XRFRPpPr2oI7v5e8P0YsBGYBRwNFtEg+H4sOLweGB93erdnT9RSiyIi/afHCcHMPmdmw2PbwA3AXmAzUBIcVsK5mRA3A0s0e6KISHLqTZPRGGBj0EN0KPCv7l5lZv8JPGtmK4H/Bm4BcPd9ZvYsWllLRCQp9TghuPu7wBcSxP8IFLRzzhpgTYK4Zk8UERlkGqksIiKAEoKIiASUEEREBFBCEBGRgBKCiIgASggiIhJQQhAREUAJQc5z5MgRrr/+enJzc8nLy2Pt2rUANDY2UlhYSE5ODoWFhRw/fjz+tCu0zoVI6lNCkFaGDh3Kww8/zP79+9m+fTvr1q2jtraWsrIyCgoKqKuro6CggLKyMgBqa2sBRqJ1LkRSnhKCtBIKhZg+fToAw4cPJzc3l4aGBiorKykpiU5RVVJSwqZNmwCorKwEaHT3M+5+CIitcxEiWOfC3R2IrXMhSSg7O5trrrmG/Px8Zs6MrXXFkO6ufiiprT8WyJE0cfjwYXbv3s3s2bM5evQooVAIiCaNY8eik9g2NDQAfBJ3Wmw9i7N0cZ0LTWueHH79619z+eWXx4dCwDPuXmZmpURXP/z2easfjgVeMbMr4+YmkxSlGoIkdOrUKRYuXMijjz7KiBEj2j0u+uG/bZhurHOhac2T1qVEVz0k+P6VYLtl9cP4WuGA3530OSUEaePs2bMsXLiQZcuWsWDBAgDGjBlDJBIBIBKJkJUVXQgvHA4DXBR3erfXuZDBZ2bccMMNzJgxgyeeeCIWHtrN1Q8lxSkhSCvuzsqVK8nNzeXuu+9uiRcVFVFREf2wWFFRQXFxcUscGKl1LlLbtm3bePPNN3nppZdYt24dr732WkeHd6n2Z2a3mdlOM9v5/vvv99m9Sv9RQpBWtm3bxtNPP83WrVvJz88nPz+fLVu2UFpaSnV1NTk5OVRXV1NaWgpAXl4eQCPRdS6qaLvOxU+JNikcROtcJK2xY8cCkJWVxc0338yOHTsAmrq5+mEragpMPXqpLK3MmTOnvfcC1NTUtHfa79195vlBrXORGj795DQnT55k+PDhfPjhh/zqV7/iH//xHwE+ILrqYRltVz/8VzP7AdGXyjnAjoG/c+lrSggiGa75ow+YM2cOAE1NTfz1X/818+fPB4gAhd1c/VBSWI8TgpmNJ9q3/ArgU+AJd19rZvcDtwKxRsPvuPuW4Jz7gJVAM/C/3P3lID6Dc0tobgG+5e19TBWRPnXhpVfw1ltvJdrV7O7dWv1QUltvaghNwD3u/qaZDQd2mVl1sO8Rd/+/8Qd30nc5NqJ1O9GEMB+1N4uIDKjerKkcIVqlxN1Pmtl+Ou561tJ3GThkZrERrYcJRrQCmFlsRKsSQhdll77Y6TGHy748AHciIqmsT3oZmVk2MA14IwjdYWZvm9mTccPd2+u7PI5ujGhVNzYRkf7R64RgZhcDzwN3uvsJos0/nwfyidYgHo4dmuB0jWgVEUkSvUoIZnYh0WTwc3d/AcDdj7p7s7t/Cvwz54a0t9d3WSNaRUSSQI8TQjD6tBzY7+4/iIuH4g67GdgbbG8GlmhEq4hIcupNL6O/AP4W+I2Z7Qli3wGWmlk+0Wafw8DfQ6d9l1dxrtvpS+iFsojIgOtNL6N/J3H7/5YOzknYd1kjWpODeiuJZDaNVBYR6aJ0/9Ckye1ERARQQhARkYASgoiIAEoIIiIS0EtlkRTWlZecIl2lGoKIiABKCCIiElCTkUgfS/e+6pIc+uPvTDUEEREBVEMQGRSqRfQd/bfsO6ohiIgIoIQgIiIBJQQREQH0DmFQqe1TJHlokJ8SgogkMf0jPbCSpsnIzOab2QEze8fMSgf7fqRvqFzTl8o2/SRFDcHMhgDrgEKgHvhPM9vs7rWDe2c911efbFL5E1I6lqtEqWzTU1IkBGAW8I67vwtgZhuAYqLrL/epzv6BVZt9n0qacu1LA/U3kuQfBgasbFNNkpdbh5IlIYwDjsT9XA/MPv8gM7sNuC348ZSZHTjvkMuBP/TmRuyh3pw9IHr0jH31XO1c53+0c3jSlGtf6oe/kUF/vm6WK3ShbJOpXAfw/+tBL8t43S3XZEkIliDmbQLuTwBPtHsRs53uPrMvbyzZpNgzqly7IEWfr9OyzcRyTfVnSpaXyvXA+Lifw8B7g3Qv0ndUrulLZZuGkiUh/CeQY2YTzewiYAmweZDvSXpP5Zq+VLZpKCmajNy9yczuAF4GhgBPuvu+Hlyq3eppGkmZZ1S5dlnKPV8flW3KPXcXpPQzmXubJl0REclAydJkJCIig0wJQUREgDRJCOk6hN7MxpvZr81sv5ntM7NvBfGRZlZtZnXB98sG+177Q7qVa6aXZ0w6lGu6lmXKv0MIhtD/F3FD6IGl6TCE3sxCQMjd3zSz4cAu4CvAcqDR3cuC/6Euc/dvD96d9r10LNdMLs+YdCnXdC3LdKghtAyhd/dPgNgQ+pTn7hF3fzPYPgnsJzpCtBioCA6rIPqHmG7SrlwzvDxj0qJc07Us0yEhJBpCP26Q7qXfmFk2MA14Axjj7hGI/mECWYN4a/0lrcs1A8szJu3KNZ3KMh0SQpemR0hlZnYx8Dxwp7ufGOz7GSBpW64ZWp4xaVWu6VaW6ZAQ0noIvZldSPQP7ufu/kIQPhq0YcbaMo8N1v31o7Qs1wwuz5i0Kdd0LMt0SAhpO4TezAwoB/a7+w/idm0GSoLtEqByoO9tAKRduWZ4ecakRbmma1mmfC8jADO7EXiUc0Po1wzuHfUNM5sD/D/gN8CnQfg7RNsqnwUmAP8N3OLujYNyk/0o3co108szJh3KNV3LMi0SgoiI9F46NBmJiEgfUEIQERFACUFERAJKCCIiAighiIhIQAlBREQAJQQREQn8f6OxNZCYxbknAAAAAElFTkSuQmCC",
>>>>>>> 3a2677adc3fc2aa4e6697d83343786b9e81b84f6
      "text/plain": [
       "<Figure size 432x288 with 3 Axes>"
      ]
     },
     "metadata": {
      "needs_background": "light"
     },
     "output_type": "display_data"
    }
   ],
   "source": [
    "\n",
    "#\"C:/flowerpic/jpeg-224x224/val/iris/12769.jpeg\"\n",
    "def To_Data(img):\n",
    "    name=img.split(\"/\")\n",
    "    Cut(img)\n",
    "    H1,H2,H3=Color_hist(\"cuts/cut1_\"+name[-2]+\"_\"+name[-1],\n",
    "                        \"cuts/cut2_\"+name[-2]+\"_\"+name[-1],\n",
    "                        \"cuts/cut3_\"+name[-2]+\"_\"+name[-1])\n",
    "    #H2_remake=[]\n",
    "    #H3_remake=[]\n",
    "    #for i in H2:\n",
    "        #H2_remake.append(i+\"2\")\n",
    "    #for i in H3:\n",
    "        #H3_remake.append(i+\"2\")\n",
    "    #H=H1+H2_remake+H3_remake    \n",
    "    return H1,H2,H3\n",
    "\n",
    "H1,H2,H3=To_Data(\"flower_pic/tree mallow/13651.jpeg\")"
   ]
  },
  {
   "cell_type": "markdown",
   "metadata": {},
   "source": [
    "等資料庫建完\n",
    "==="
   ]
  },
  {
   "cell_type": "code",
   "execution_count": 15,
   "metadata": {},
   "outputs": [],
   "source": [
    "#Approximate Nearest Neighbor\n",
    "##施工中##\n",
    "\n",
    "\n",
    "\n",
    "#施工中##"
   ]
  },
  {
   "cell_type": "markdown",
   "metadata": {},
   "source": [
    "局部特徵\n",
    "==="
   ]
  },
  {
   "cell_type": "code",
   "execution_count": 16,
   "metadata": {},
   "outputs": [],
   "source": [
    "import numpy as np\n",
    "import cv2 \n",
    "img_1 = cv2.imread('C:/flowerpic/jpeg-224x224/val/iris/12769.jpeg')\n",
    "img_2 = cv2.imread('C:/flowerpic/jpeg-224x224/val/iris/16301.jpeg')\n",
    "#gray= cv2.cvtColor(img,cv2.COLOR_BGR2GRAY)\n",
    "#sift_1 = cv2.SIFT_create()\n",
    "#kp_1 = sift_1.detect(img_1,None)\n",
    "#img_1=cv2.drawKeypoints(img_1,kp_1,img_1,flags=cv2.DRAW_MATCHES_FLAGS_DRAW_RICH_KEYPOINTS)\n",
    "\n",
    "#sift_2 = cv2.SIFT_create()\n",
    "#kp_2 = sift_2.detect(img_2,None)\n",
    "#img_2=cv2.drawKeypoints(img_2,kp_2,img_2,flags=cv2.DRAW_MATCHES_FLAGS_DRAW_RICH_KEYPOINTS)\n",
    "\n",
    "\n",
    "#cv2.imshow(\"SIFT\", img_2)\n",
    "#cv2.waitKey(0)\n",
    "#cv2.destroyAllWindows()\n"
   ]
  },
  {
   "cell_type": "code",
   "execution_count": 20,
   "metadata": {},
   "outputs": [],
   "source": [
    "img_1 = cv2.imread('C:/flowerpic/jpeg-224x224/val/iris/12769.jpeg')\n",
    "img_2 = cv2.imread('C:/flowerpic/jpeg-224x224/val/iris/16301.jpeg')\n",
    "orb = cv2.ORB_create(nfeatures = 50)\n",
    "kp1_orb, des1_orb = orb.detectAndCompute(img_1,None)\n",
    "kp2_orb, des2_orb = orb.detectAndCompute(img_2,None)\n",
    "\n",
    "bf = cv2.BFMatcher(cv2.NORM_HAMMING, crossCheck=True)\n",
    "matches_orb = bf.match(des1_orb,des2_orb)\n",
    "\n",
    "img_=cv2.drawKeypoints(img_2,kp2_orb,None,flags=cv2.DRAW_MATCHES_FLAGS_DRAW_RICH_KEYPOINTS)\n",
    "\n",
    "cv2.imwrite(\"ORB.jpg\", img_)\n",
    "cv2.imshow(\"ORB\", img_)\n",
    "cv2.waitKey(0)\n",
    "cv2.destroyAllWindows()\n"
   ]
  },
  {
   "cell_type": "code",
   "execution_count": 22,
   "metadata": {},
   "outputs": [],
   "source": [
    "#surf = cv2.SURF_create(40)\n",
    "img_1 = cv2.imread('C:/flowerpic/jpeg-224x224/val/iris/12769.jpeg')\n",
    "img_2 = cv2.imread('C:/flowerpic/jpeg-224x224/val/iris/16301.jpeg')\n",
    "sift = cv2.SIFT_create()\n",
    "\n",
    "gray_1= cv2.cvtColor(img_1,cv2.COLOR_BGR2GRAY)\n",
    "gray_2= cv2.cvtColor(img_2,cv2.COLOR_BGR2GRAY)\n",
    "kp1_sift, des1_sift = sift.detectAndCompute(gray_1,None)\n",
    "kp2_sift, des2_sift = sift.detectAndCompute(gray_2,None)\n",
    "bf = cv2.BFMatcher(cv2.NORM_L2, crossCheck=True)\n",
    "matches_sift = bf.match(des1_sift,des2_sift)\n",
    "\n",
    "img=cv2.drawKeypoints(gray_2,kp2_sift,gray_2,flags=cv2.DRAW_MATCHES_FLAGS_DRAW_RICH_KEYPOINTS)\n",
    "cv2.imwrite(\"SIFT.jpg\", img)\n",
    "cv2.imshow(\"SIFT\", img)\n",
    "cv2.waitKey(0)\n",
    "cv2.destroyAllWindows()\n",
    "\n",
    "\n"
   ]
  },
  {
   "cell_type": "code",
   "execution_count": 19,
   "metadata": {},
   "outputs": [
    {
     "name": "stdout",
     "output_type": "stream",
     "text": [
      "DataType: <class 'cv2.DMatch'>\n",
      "描述符之間的距離: 59.0\n",
      "圖像中描述符的索引: 1\n",
      "DataType: <class 'cv2.DMatch'>\n",
      "描述符之間的距離: 198.2296600341797\n",
      "圖像中描述符的索引: 0\n"
     ]
    }
   ],
   "source": [
    "\n",
    "print(\"DataType:\",type(matches_orb[0]))\n",
    "print(\"描述符之間的距離:\",matches_orb[0].distance)# 越小越好\n",
    "print(\"圖像中描述符的索引:\",matches_orb[0].queryIdx)\n",
    "\n",
    "print(\"DataType:\",type(matches_sift[0]))\n",
    "print(\"描述符之間的距離:\",matches_sift[0].distance)\n",
    "print(\"圖像中描述符的索引:\",matches_sift[0].queryIdx)\n",
    "\n"
   ]
  }
 ],
 "metadata": {
  "kernelspec": {
   "display_name": "Python 3.9.2 64-bit",
   "language": "python",
   "name": "python3"
  },
  "language_info": {
   "codemirror_mode": {
    "name": "ipython",
    "version": 3
   },
   "file_extension": ".py",
   "mimetype": "text/x-python",
   "name": "python",
   "nbconvert_exporter": "python",
   "pygments_lexer": "ipython3",
   "version": "3.10.0"
  },
  "orig_nbformat": 4,
  "vscode": {
   "interpreter": {
    "hash": "27958f768dcca3a929804bc6fbe38aedd46970db20e3e9a2a0a7634f9c4148a3"
   }
  }
 },
 "nbformat": 4,
 "nbformat_minor": 2
}
