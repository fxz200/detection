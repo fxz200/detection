{
 "cells": [
  {
   "cell_type": "markdown",
   "metadata": {},
   "source": [
    "這邊用來存程式碼\n",
    "===\n",
    "請善用Ctrl+F來查詢所需函式或程式碼\n",
    "---\n",
    "下載完DATA記得改img路徑<br>\n",
    "懶得改就直接丟C槽 <font color=\"red\">然後資料夾名稱flowerpic</font><br>\n",
    "因為我如果全部推github 要很久== 你們下載會更久:)"
   ]
  },
  {
   "cell_type": "markdown",
   "metadata": {},
   "source": [
    "訓練集(DATA):https://www.kaggle.com/datasets/msheriey/104-flowers-garden-of-eden"
   ]
  },
  {
   "cell_type": "markdown",
   "metadata": {},
   "source": [
    "要做的<br>\n",
    "*   訓練辨識系統<br>\n",
    "~Approximate Nearest Neighbor\n",
    "*   資料庫<br>\n",
    "maybe SQL or firebase \n",
    "*   UI介面<br>\n",
    "Kivy?\n"
   ]
  },
  {
   "cell_type": "markdown",
   "metadata": {},
   "source": [
    "訓練辨識系統\n",
    "---\n"
   ]
  },
  {
   "cell_type": "code",
   "execution_count": 3,
   "metadata": {},
   "outputs": [],
   "source": [
    "#import 丟這裡\n",
    "#no moudle 請在終端機 pip install moudle 或是 python -m pip install moudle\n",
    "\n",
    "import pandas as pd\n",
    "import numpy as np\n",
    "import cv2\n",
    "import os\n",
    "from PIL import Image\n",
    "import math\n",
    "import matplotlib.pyplot as plt"
   ]
  },
  {
   "cell_type": "code",
   "execution_count": 4,
   "metadata": {},
   "outputs": [],
   "source": [
    "#HSV即色相、飽和度、明度\n",
    "#https://zh.wikipedia.org/zh-tw/HSL%E5%92%8CHSV%E8%89%B2%E5%BD%A9%E7%A9%BA%E9%97%B4\n",
    "##看顏色##\n",
    "#https://www.peko-step.com/zhtw/tool/hsvrgb.html\n",
    "img=\"C:/flowerpic/jpeg-224x224/val/iris/12769.jpeg\"\n",
    "img=cv2.imread(img)\n",
    "img=cv2.cvtColor(img,cv2.COLOR_BGR2HSV)\n",
    "\n",
    "cv2.imwrite('oxx1.jpeg', img)\n",
    "cv2.waitKey(0)                              \n",
    "cv2.destroyAllWindows()\n",
    "\n"
   ]
  },
  {
   "cell_type": "markdown",
   "metadata": {},
   "source": [
    "PS 中\n",
    "\n",
    "H 範圍在 0 ~ 360 。 S 範圍在 0 ~ 1 % V 範圍在 0 ~ 1 %\n",
    "\n",
    "Python 中\n",
    "\n",
    "H 範圍在 0 ~ 180 S 範圍在 0 ~ 255 V 範圍在 0 ~ 255"
   ]
  },
  {
   "cell_type": "code",
   "execution_count": 5,
   "metadata": {},
   "outputs": [
    {
     "name": "stdout",
     "output_type": "stream",
     "text": [
      "29\n"
     ]
    }
   ],
   "source": [
    "#顏色區分\n",
    "#論文pg21 有空幫我看一下我有沒有寫錯 謝謝\n",
    "HSV=[114, 134, 181]\n",
    "HSV=np.array(HSV)\n",
    "def HSV_differentiate(HSV):\n",
    "    h=HSV[0]*2\n",
    "    s=HSV[1]*100/255\n",
    "    v=HSV[2]*100/255\n",
    "    if  v<20:\n",
    "        l=0\n",
    "    elif s<20 and 20<=v<80 :\n",
    "        l=math.floor(((v/100-0.2)*10))+1   \n",
    "    elif s<20 and 80<=v<=100:\n",
    "        l=7\n",
    "    else:\n",
    "        if h>22 and h<=45:\n",
    "            H=1\n",
    "        elif h>45 and h<=70:\n",
    "            H=2\n",
    "        elif h>70 and h<=155:\n",
    "            H=3\n",
    "        elif h>155 and h<=186:\n",
    "            H=4\n",
    "        elif h>186 and h<=278:\n",
    "            H=5\n",
    "        elif h>278 and h<=330:\n",
    "            H=6\n",
    "        else:H=0\n",
    "        if s>20 and s<=65:\n",
    "            S=0\n",
    "        else:S=1\n",
    "        if v>20 and v<=70:\n",
    "            V=0\n",
    "        else:V=1\n",
    "        l=4*H+2*S+V+8\n",
    "    return l\n",
    "\n",
    "print(HSV_differentiate(HSV))"
   ]
  },
  {
   "cell_type": "code",
   "execution_count": 6,
   "metadata": {},
   "outputs": [
    {
     "data": {
      "text/plain": [
       "50176"
      ]
     },
     "execution_count": 6,
     "metadata": {},
     "output_type": "execute_result"
    }
   ],
   "source": [
    "#像素\n",
    "224*224"
   ]
  },
  {
   "cell_type": "code",
   "execution_count": 7,
   "metadata": {},
   "outputs": [
    {
     "name": "stdout",
     "output_type": "stream",
     "text": [
      "111 124\n"
     ]
    }
   ],
   "source": [
    "#畫出圓形區域\n",
    "def Centroid(img):\n",
    "    img = cv2.imread(img)\n",
    "    gray_image = cv2.cvtColor(img, cv2.COLOR_BGR2GRAY)\n",
    "    ret,thresh = cv2.threshold(gray_image,127,255,0)\n",
    "    M = cv2.moments(thresh)\n",
    "    #質心\n",
    "    cX = int(M[\"m10\"] / M[\"m00\"])\n",
    "    cY = int(M[\"m01\"] / M[\"m00\"])\n",
    "    \n",
    "    if cX>cY:\n",
    "        radius=cY-1\n",
    "    else:radius=cX-1\n",
    "        \n",
    "    cv2.circle(img, (cX, cY), 2, (255, 255, 255), -1)\n",
    "    cv2.circle(img, (cX, cY), radius,(255, 255, 255), 0)\n",
    "    cv2.circle(img, (cX, cY), radius//3,(255, 255, 255), 0)\n",
    "    cv2.circle(img, (cX, cY), radius*2//3,(255, 255, 255), 0)\n",
    "    print(cX,cY)\n",
    " \n",
    "    cv2.imshow(\"Image\", img)\n",
    "    cv2.waitKey(0)\n",
    "  \n",
    "Centroid(\"C:/flowerpic/jpeg-224x224/val/iris/12769.jpeg\")\n",
    "\n"
   ]
  },
  {
   "cell_type": "code",
   "execution_count": 8,
   "metadata": {},
   "outputs": [
    {
     "name": "stdout",
     "output_type": "stream",
     "text": [
      "110\n",
      "103\n"
     ]
    }
   ],
   "source": [
    "##質心半徑\n",
    "def Radius(img):\n",
    "    img = cv2.imread(img)\n",
    "    gray_image = cv2.cvtColor(img, cv2.COLOR_BGR2GRAY)\n",
    "    ret,thresh = cv2.threshold(gray_image,127,255,0)\n",
    "    M = cv2.moments(thresh)\n",
    "    #質心\n",
    "    cX = int(M[\"m10\"] / M[\"m00\"])\n",
    "    cY = int(M[\"m01\"] / M[\"m00\"])\n",
    "    \n",
    "    if cX>cY:\n",
    "        radius=cY-1\n",
    "    else:radius=cX-1\n",
    "    \n",
    "    return radius\n",
    "print(Radius(\"C:/flowerpic/jpeg-224x224/val/iris/12769.jpeg\"))\n",
    "print(Radius(\"C:/flowerpic/jpeg-224x224/val/iris/16301.jpeg\"))"
   ]
  },
  {
   "cell_type": "code",
   "execution_count": 9,
   "metadata": {},
   "outputs": [],
   "source": [
    "#切割圓形區域\n",
    "\n",
    "\n",
    "def Cut(img):\n",
    "    name=img.split(\"/\")\n",
    "    \n",
    "    img_=cv2.imread(img)\n",
    "    img1=cv2.imread((img))\n",
    "    img2=cv2.imread((img))\n",
    "    img3=cv2.imread((img))\n",
    "    #質心半徑\n",
    "    r=Radius(img)\n",
    "    ##遮蓋罩##\n",
    "    ##最大\n",
    "    #MASK1=np.zeros_like(img1)\n",
    "    MASK1=np.zeros((img1.shape[0], img1.shape[1]), dtype=np.uint8) \n",
    "    cv2.circle(MASK1, (111,124), r, (255, 255, 255), -1) \n",
    "    ##次之\n",
    "    #MASK2=np.zeros_like(img2)\n",
    "    MASK2=np.zeros((img2.shape[0], img2.shape[1]), dtype=np.uint8) \n",
    "    cv2.circle(MASK2, (111,124), r*2//3, (255, 255, 255), -1)\n",
    "\n",
    "    ##最小 \n",
    "    #MASK3=np.zeros_like(img3)\n",
    "    MASK3=np.zeros((img3.shape[0], img3.shape[1]), dtype=np.uint8) \n",
    "    cv2.circle(MASK3, (111,124), r//3, (255, 255, 255), -1)\n",
    "    mask2 = cv2.subtract(MASK2, MASK3)\n",
    "    mask1 = cv2.subtract(MASK1, MASK2)\n",
    "    \n",
    "    imgAddMask1 = cv2.add(img1, np.zeros(np.shape(img1), dtype=np.uint8), mask=mask1)\n",
    "    imgAddMask2 = cv2.add(img2, np.zeros(np.shape(img2), dtype=np.uint8), mask=mask2)\n",
    "    imgAddMask3 = cv2.add(img3, np.zeros(np.shape(img3), dtype=np.uint8), mask=MASK3)\n",
    "    cv2.imwrite(\"cuts/cut1_\"+name[-2]+\"_\"+name[-1], imgAddMask1)\n",
    "    cv2.imwrite(\"cuts/cut2_\"+name[-2]+\"_\"+name[-1], imgAddMask2)\n",
    "    cv2.imwrite(\"cuts/cut3_\"+name[-2]+\"_\"+name[-1], imgAddMask3)\n",
    "    \n",
    "    \n",
    "Cut(\"C:/flowerpic/jpeg-224x224/val/iris/12769.jpeg\")\n",
    "Cut(\"C:/flowerpic/jpeg-224x224/val/iris/16301.jpeg\")\n",
    "# r=110\n",
    "\n",
    "# img=\"C:/flowerpic/jpeg-224x224/val/iris/12769.jpeg\"\n",
    "# img_=cv2.imread(img)\n",
    "# img1 = cv2.imread(img)\n",
    "# img2 = cv2.imread(img)\n",
    "# img3 = cv2.imread(img)\n",
    "\n",
    "# ##最大\n",
    "# #MASK1=np.zeros_like(img1)\n",
    "# MASK1=np.zeros((img1.shape[0], img1.shape[1]), dtype=np.uint8) \n",
    "# cv2.circle(MASK1, (111,124), r, (255, 255, 255), -1) \n",
    "# ##次之\n",
    "# #MASK2=np.zeros_like(img2)\n",
    "# MASK2=np.zeros((img2.shape[0], img2.shape[1]), dtype=np.uint8) \n",
    "# cv2.circle(MASK2, (111,124), r*2//3, (255, 255, 255), -1)\n",
    "\n",
    "# ##最小 \n",
    "# #MASK3=np.zeros_like(img3)\n",
    "# MASK3=np.zeros((img3.shape[0], img3.shape[1]), dtype=np.uint8) \n",
    "# cv2.circle(MASK3, (111,124), r//3, (255, 255, 255), -1)\n",
    "\n",
    "# mask2 = cv2.subtract(MASK2, MASK3)\n",
    "# mask1 = cv2.subtract(MASK1, MASK2)\n",
    "# # # ROI\n",
    "# # result2 = cv2.cvtColor(img2, cv2.COLOR_BGR2BGRA)\n",
    "# # result2[:, :, 3] = mask2[:,:,0]\n",
    "# # #cv2.imshow('image', result2)\n",
    "# # #cv2.imshow('mask2', mask2)\n",
    "# # cv2.imwrite('result2.png', result2)\n",
    "\n",
    "# # result1 = cv2.cvtColor(img1, cv2.COLOR_BGR2BGRA)\n",
    "# # result1[:, :, 3] = mask1[:,:,0]\n",
    "# # #cv2.imshow('image', result1)\n",
    "# # #cv2.imshow('mask1', mask1)\n",
    "# # cv2.imwrite('result1.png', result1)\n",
    "\n",
    "# # result3 = cv2.cvtColor(img3, cv2.COLOR_BGR2BGRA)\n",
    "# # result3[:, :, 3] = MASK3[:,:,0]\n",
    "# # #cv2.imshow('image', result3)\n",
    "# # #cv2.imshow('mask3', MASK3)\n",
    "# # cv2.imwrite('result3.png', result3)\n",
    "\n",
    "# imgAddMask1 = cv2.add(img1, np.zeros(np.shape(img1), dtype=np.uint8), mask=mask1)\n",
    "# imgAddMask2 = cv2.add(img2, np.zeros(np.shape(img2), dtype=np.uint8), mask=mask2)\n",
    "# imgAddMask3 = cv2.add(img3, np.zeros(np.shape(img3), dtype=np.uint8), mask=MASK3)\n",
    "# cv2.imshow(\"circularMask\", mask1)  \n",
    "# cv2.imshow(\"circularROI\", imgAddMask1)\n",
    "# cv2.imshow(\"circularMask2\", mask2)  \n",
    "# cv2.imshow(\"circularROI2\", imgAddMask2)\n",
    "# cv2.imshow(\"circularMask3\", MASK3)  \n",
    "# cv2.imshow(\"circularROI3\", imgAddMask3)\n",
    "# cv2.imwrite('cut1.jpeg', imgAddMask1)\n",
    "# cv2.imwrite('cut2.jpeg', imgAddMask2)\n",
    "# cv2.imwrite('cut3.jpeg', imgAddMask3)\n",
    "# cv2.waitKey()\n",
    "# cv2.destroyAllWindows()"
   ]
  },
  {
   "cell_type": "code",
   "execution_count": 66,
   "metadata": {},
   "outputs": [],
   "source": [
    "#色彩直方圖\n",
    "  \n",
    "def Color_hist(cut1,cut2,cut3):\n",
    "    img1 = cv2.imread(cut1)\n",
    "    img2 = cv2.imread(cut2)\n",
    "    img3 = cv2.imread(cut3)\n",
    "    \n",
    "    img1_=cv2.cvtColor(img1,cv2.COLOR_BGR2HSV)\n",
    "    img2_=cv2.cvtColor(img2,cv2.COLOR_BGR2HSV)\n",
    "    img3_=cv2.cvtColor(img3,cv2.COLOR_BGR2HSV)\n",
    "    \n",
    "    ##刪除純黑## \n",
    "    black=np.array([0,0,0])\n",
    "    color_list_1_no_black=[]\n",
    "    color_list_2_no_black=[]\n",
    "    color_list_3_no_black=[]\n",
    "    \n",
    "    for i in img1_:\n",
    "        for k in i:\n",
    "            if k.any() == black.any():\n",
    "                continue\n",
    "            else:\n",
    "                color_list_1_no_black.append(k)\n",
    "                #print(k)\n",
    "    for i in img2_:\n",
    "        for k in i:\n",
    "            if k.any() == black.any():\n",
    "                continue\n",
    "            else:\n",
    "                color_list_2_no_black.append(k)\n",
    "                #print(k)\n",
    "    for i in img3_:\n",
    "        for k in i:\n",
    "            if k.any() == black.any():\n",
    "                continue\n",
    "            else:\n",
    "                color_list_3_no_black.append(k)\n",
    "                #print(k)    \n",
    "\n",
    "    color_hist_1=[]\n",
    "    for i in color_list_1_no_black:\n",
    "        color_hist_1.append(HSV_differentiate(i))\n",
    "    #plt.subplot(131) \n",
    "    #plt.hist(color_hist_1)\n",
    "\n",
    "    color_hist_2=[]\n",
    "    for i in color_list_2_no_black:\n",
    "        color_hist_2.append(HSV_differentiate(i))\n",
    "    #plt.subplot(132) \n",
    "    #plt.hist(color_hist_2)\n",
    "\n",
    "\n",
    "    color_hist_3=[]\n",
    "    for i in color_list_3_no_black:\n",
    "        color_hist_3.append(HSV_differentiate(i))\n",
    "    #plt.subplot(133) \n",
    "    #plt.hist(color_hist_3)\n",
    "\n",
    "\n",
    "    return color_hist_1,color_hist_2,color_hist_3\n",
    "H1_12769,H2_12769,H3_12769=Color_hist('cuts/cut1_iris_12769.jpeg','cuts/cut2_iris_12769.jpeg','cuts/cut3_iris_12769.jpeg')   \n",
    "#H1_16301,H2_16301,H3_16301=Color_hist('cut1_iris_16301.jpeg','cut2_iris_16301.jpeg','cut3_iris_16301.jpeg')  \n",
    "# img1 = cv2.imread(\"cut1_iris_12769.jpeg\")\n",
    "# img2 = cv2.imread(\"cut2_iris_12769.jpeg\")\n",
    "# img3 = cv2.imread(\"cut3_iris_12769.jpeg\")\n",
    "# #cv2.imshow('result3.png',img2)\n",
    "# ##no change\n",
    "# img1_=cv2.cvtColor(img1,cv2.COLOR_BGR2HSV)\n",
    "# img2_=cv2.cvtColor(img2,cv2.COLOR_BGR2HSV)\n",
    "# img3_=cv2.cvtColor(img3,cv2.COLOR_BGR2HSV)\n",
    "# #cv2.imshow('result3.png',img2_)\n",
    "# cv2.waitKey()\n",
    "# cv2.destroyAllWindows()\n",
    "# ##刪除純黑## \n",
    "\n",
    "# black=np.array([0,0,0])\n",
    "# color_list_1_no_black=[]\n",
    "# color_list_2_no_black=[]\n",
    "# color_list_3_no_black=[]\n",
    "# #color_list_1_no_black=np.ndarray(color_list_1_no_black)\n",
    "\n",
    "\n",
    "# for i in img1_:\n",
    "#     for k in i:\n",
    "#         if k.any() == black.any():\n",
    "#             continue\n",
    "#         else:\n",
    "#             color_list_1_no_black.append(k)\n",
    "#             #print(k)\n",
    "# for i in img2_:\n",
    "#     for k in i:\n",
    "#         if k.any() == black.any():\n",
    "#             continue\n",
    "#         else:\n",
    "#             color_list_2_no_black.append(k)\n",
    "#             #print(k)\n",
    "# for i in img3_:\n",
    "#     for k in i:\n",
    "#         if k.any() == black.any():\n",
    "#             continue\n",
    "#         else:\n",
    "#             color_list_3_no_black.append(k)\n",
    "#             #print(k)    \n",
    "\n",
    "# color_hist_1=[]\n",
    "# for i in color_list_1_no_black:\n",
    "#     color_hist_1.append(HSV_differentiate(i))\n",
    "# plt.subplot(131) \n",
    "# plt.hist(color_hist_1)\n",
    "\n",
    "# color_hist_2=[]\n",
    "# for i in color_list_2_no_black:\n",
    "#     color_hist_2.append(HSV_differentiate(i))\n",
    "# plt.subplot(132) \n",
    "# plt.hist(color_hist_2)\n",
    "\n",
    "\n",
    "# color_hist_3=[]\n",
    "# for i in color_list_3_no_black:\n",
    "#     color_hist_3.append(HSV_differentiate(i))\n",
    "# plt.subplot(133) \n",
    "# plt.hist(color_hist_3)\n",
    "\n",
    "\n",
    "# # color_list_1=[]\n",
    "# # for i in img1:\n",
    "# #     for k in i:\n",
    "# #         color_list_1.append(HSV_differentiate(k))\n",
    "\n",
    "# # color_list_1\n",
    "# # plt.subplot(131)    \n",
    "# # plt.hist(color_list_1)\n",
    "# # color_list_2=[]\n",
    "# # for i in img2:\n",
    "# #     for k in i:\n",
    "# #         color_list_2.append(HSV_differentiate(k))\n",
    "\n",
    "# # color_list_2 \n",
    "# # plt.subplot(132)      \n",
    "# # plt.hist(color_list_2)\n",
    "# # color_list_3=[]\n",
    "# # for i in img3:\n",
    "# #     for k in i:\n",
    "# #         color_list_3.append(HSV_differentiate(k))\n",
    "\n",
    "# # color_list_3    \n",
    "# # plt.subplot(133)   \n",
    "# # plt.hist(color_list_3)\n"
   ]
  },
  {
   "cell_type": "markdown",
   "metadata": {},
   "source": [
    "* 相關性比較<br>\n",
    "0~1 越大相關性越高\n",
    "* 巴氏距離<br>\n",
    "0~1 越小相關度越高<br>\n",
    "參考:http://shichaoxin.com/2021/08/27/OpenCV%E5%9F%BA%E7%A1%80-%E7%AC%AC%E4%BA%8C%E5%8D%81%E4%B8%89%E8%AF%BE-%E7%9B%B4%E6%96%B9%E5%9B%BE%E6%AF%94%E8%BE%83/"
   ]
  },
  {
   "cell_type": "code",
   "execution_count": 58,
   "metadata": {},
   "outputs": [],
   "source": [
    "##直方圖交集\n",
    "\n",
    "\n",
    "\n",
    "def Compare_Hist(h1,h2):\n",
    "    #H1=plt.hist(h1,36,(0,36))\n",
    "    #H2=plt.hist(h2,36,(0,36))\n",
    "\n",
    "    H1_array=h1[0]\n",
    "    H1_array=H1_array[:,np.newaxis]\n",
    "    H2_array=h2[0]\n",
    "    H2_array=H2_array[:,np.newaxis]\n",
    "    H1_array=np.float32(H1_array)\n",
    "    H2_array=np.float32(H2_array)\n",
    "    corr=(cv2.compareHist(H1_array,H2_array , method=0))#HISTCMP_CORREL\n",
    "    dis=(cv2.compareHist(H1_array,H2_array , method=cv2.HISTCMP_BHATTACHARYYA))#巴氏距離\n",
    "    \n",
    "    return corr ,dis\n",
    "\n",
    "# HH=plt.hist(H1_12769,36,(0,36))\n",
    "# hh=plt.hist(H1_16301,36,(0,36))\n",
    "\n",
    "# H=HH[0]\n",
    "# H=H[:,np.newaxis]\n",
    "# h=hh[0]\n",
    "# h=h[:,np.newaxis]\n",
    "# H=np.float32(H)\n",
    "# h=np.float32(h)\n",
    "# print(cv2.compareHist(H,h , method=0))#HISTCMP_CORREL\n",
    "# print(cv2.compareHist(H,h , method=cv2.HISTCMP_BHATTACHARYYA))#巴氏距離\n"
   ]
  },
  {
   "cell_type": "markdown",
   "metadata": {},
   "source": [
    "資料庫\n",
    "==="
   ]
  },
  {
   "cell_type": "code",
   "execution_count": 74,
   "metadata": {},
   "outputs": [
    {
     "data": {
      "text/html": [
       "<div>\n",
       "<style scoped>\n",
       "    .dataframe tbody tr th:only-of-type {\n",
       "        vertical-align: middle;\n",
       "    }\n",
       "\n",
       "    .dataframe tbody tr th {\n",
       "        vertical-align: top;\n",
       "    }\n",
       "\n",
       "    .dataframe thead th {\n",
       "        text-align: right;\n",
       "    }\n",
       "</style>\n",
       "<table border=\"1\" class=\"dataframe\">\n",
       "  <thead>\n",
       "    <tr style=\"text-align: right;\">\n",
       "      <th></th>\n",
       "      <th>id</th>\n",
       "      <th>name_En</th>\n",
       "      <th>color_hist_1</th>\n",
       "      <th>color_hist_2</th>\n",
       "      <th>color_hist_3</th>\n",
       "    </tr>\n",
       "  </thead>\n",
       "  <tbody>\n",
       "  </tbody>\n",
       "</table>\n",
       "</div>"
      ],
      "text/plain": [
       "Empty DataFrame\n",
       "Columns: [id, name_En, color_hist_1, color_hist_2, color_hist_3]\n",
       "Index: []"
      ]
     },
     "execution_count": 74,
     "metadata": {},
     "output_type": "execute_result"
    }
   ],
   "source": [
    "title={\n",
    "    \"id\":[],\n",
    "    'name_En':[],\n",
    "    #'name_Ch':[],\n",
    "    'color_hist_1':[],\n",
    "    'color_hist_2':[],\n",
    "    'color_hist_3':[]\n",
    "    \n",
    "}\n",
    "def GetId(img):\n",
    "    name=img.split(\"/\")\n",
    "    ID=name[-1][:-5]\n",
    "    return ID\n",
    "\n",
    "def GetName(img):\n",
    "    name=img.split(\"/\")\n",
    "    Name=name[-2]\n",
    "    return Name\n",
    "flower_db=pd.DataFrame(title)\n",
    "flower_db"
   ]
  },
  {
   "cell_type": "code",
   "execution_count": 67,
   "metadata": {},
   "outputs": [
    {
     "data": {
      "image/png": "[encoded data removed]",
      "text/plain": [
       "<Figure size 432x288 with 1 Axes>"
      ]
     },
     "metadata": {
      "needs_background": "light"
     },
     "output_type": "display_data"
    }
   ],
   "source": [
    "\n",
    "#\"C:/flowerpic/jpeg-224x224/val/iris/12769.jpeg\"\n",
    "def To_Data(img):\n",
    "    name=img.split(\"/\")\n",
    "    Cut(img)\n",
    "    H1,H2,H3=Color_hist(\"cuts/cut1_\"+name[-2]+\"_\"+name[-1],\n",
    "                        \"cuts/cut2_\"+name[-2]+\"_\"+name[-1],\n",
    "                        \"cuts/cut3_\"+name[-2]+\"_\"+name[-1])\n",
    "    \n",
    "    H1=plt.hist(H1,36,(0,36))\n",
    "    H2=plt.hist(H2,36,(0,36))\n",
    "    H3=plt.hist(H3,36,(0,36))\n",
    "    #H2_remake=[]\n",
    "    #H3_remake=[]\n",
    "    #for i in H2:\n",
    "        #H2_remake.append(i+\"2\")\n",
    "    #for i in H3:\n",
    "        #H3_remake.append(i+\"2\")\n",
    "    #H=H1+H2_remake+H3_remake    \n",
    "    return H1,H2,H3\n",
    "\n",
    "H1,H2,H3=To_Data(\"flower_pic/tree mallow/13651.jpeg\")"
   ]
  },
  {
   "cell_type": "code",
   "execution_count": 73,
   "metadata": {},
   "outputs": [
    {
     "data": {
      "text/html": [
       "<div>\n",
       "<style scoped>\n",
       "    .dataframe tbody tr th:only-of-type {\n",
       "        vertical-align: middle;\n",
       "    }\n",
       "\n",
       "    .dataframe tbody tr th {\n",
       "        vertical-align: top;\n",
       "    }\n",
       "\n",
       "    .dataframe thead th {\n",
       "        text-align: right;\n",
       "    }\n",
       "</style>\n",
       "<table border=\"1\" class=\"dataframe\">\n",
       "  <thead>\n",
       "    <tr style=\"text-align: right;\">\n",
       "      <th></th>\n",
       "      <th>id</th>\n",
       "      <th>name_En</th>\n",
       "      <th>color_hist_1</th>\n",
       "      <th>color_hist_2</th>\n",
       "      <th>color_hist_3</th>\n",
       "    </tr>\n",
       "  </thead>\n",
       "  <tbody>\n",
       "  </tbody>\n",
       "</table>\n",
       "</div>"
      ],
      "text/plain": [
       "Empty DataFrame\n",
       "Columns: [id, name_En, color_hist_1, color_hist_2, color_hist_3]\n",
       "Index: []"
      ]
     },
     "execution_count": 73,
     "metadata": {},
     "output_type": "execute_result"
    }
   ],
   "source": []
  },
  {
   "cell_type": "markdown",
   "metadata": {},
   "source": [
    "ANN((等資料庫建完\n",
    "==="
   ]
  },
  {
   "cell_type": "code",
   "execution_count": 14,
   "metadata": {},
   "outputs": [],
   "source": [
    "#Approximate Nearest Neighbor\n",
    "##施工中##\n",
    "\n",
    "\n",
    "\n",
    "#施工中##"
   ]
  },
  {
   "cell_type": "markdown",
   "metadata": {},
   "source": [
    "局部特徵\n",
    "==="
   ]
  },
  {
   "cell_type": "code",
   "execution_count": 15,
   "metadata": {},
   "outputs": [],
   "source": [
    "import numpy as np\n",
    "import cv2 \n",
    "img_1 = cv2.imread('C:/flowerpic/jpeg-224x224/val/iris/12769.jpeg')\n",
    "img_2 = cv2.imread('C:/flowerpic/jpeg-224x224/val/iris/16301.jpeg')\n",
    "#gray= cv2.cvtColor(img,cv2.COLOR_BGR2GRAY)\n",
    "#sift_1 = cv2.SIFT_create()\n",
    "#kp_1 = sift_1.detect(img_1,None)\n",
    "#img_1=cv2.drawKeypoints(img_1,kp_1,img_1,flags=cv2.DRAW_MATCHES_FLAGS_DRAW_RICH_KEYPOINTS)\n",
    "\n",
    "#sift_2 = cv2.SIFT_create()\n",
    "#kp_2 = sift_2.detect(img_2,None)\n",
    "#img_2=cv2.drawKeypoints(img_2,kp_2,img_2,flags=cv2.DRAW_MATCHES_FLAGS_DRAW_RICH_KEYPOINTS)\n",
    "\n",
    "\n",
    "#cv2.imshow(\"SIFT\", img_2)\n",
    "#cv2.waitKey(0)\n",
    "#cv2.destroyAllWindows()\n"
   ]
  },
  {
   "cell_type": "code",
   "execution_count": 16,
   "metadata": {},
   "outputs": [],
   "source": [
    "img_1 = cv2.imread('C:/flowerpic/jpeg-224x224/val/iris/12769.jpeg')\n",
    "img_2 = cv2.imread('C:/flowerpic/jpeg-224x224/val/iris/16301.jpeg')\n",
    "orb = cv2.ORB_create(nfeatures = 50)\n",
    "kp1_orb, des1_orb = orb.detectAndCompute(img_1,None)\n",
    "kp2_orb, des2_orb = orb.detectAndCompute(img_2,None)\n",
    "\n",
    "bf = cv2.BFMatcher(cv2.NORM_HAMMING, crossCheck=True)\n",
    "matches_orb = bf.match(des1_orb,des2_orb)\n",
    "\n",
    "img_=cv2.drawKeypoints(img_2,kp2_orb,None,flags=cv2.DRAW_MATCHES_FLAGS_DRAW_RICH_KEYPOINTS)\n",
    "\n",
    "cv2.imwrite(\"ORB.jpg\", img_)\n",
    "cv2.imshow(\"ORB\", img_)\n",
    "cv2.waitKey(0)\n",
    "cv2.destroyAllWindows()\n"
   ]
  },
  {
   "cell_type": "code",
   "execution_count": 17,
   "metadata": {},
   "outputs": [],
   "source": [
    "#surf = cv2.SURF_create(40)\n",
    "img_1 = cv2.imread('C:/flowerpic/jpeg-224x224/val/iris/12769.jpeg')\n",
    "img_2 = cv2.imread('C:/flowerpic/jpeg-224x224/val/iris/16301.jpeg')\n",
    "sift = cv2.SIFT_create()\n",
    "\n",
    "gray_1= cv2.cvtColor(img_1,cv2.COLOR_BGR2GRAY)\n",
    "gray_2= cv2.cvtColor(img_2,cv2.COLOR_BGR2GRAY)\n",
    "kp1_sift, des1_sift = sift.detectAndCompute(gray_1,None)\n",
    "kp2_sift, des2_sift = sift.detectAndCompute(gray_2,None)\n",
    "bf = cv2.BFMatcher(cv2.NORM_L2, crossCheck=True)\n",
    "matches_sift = bf.match(des1_sift,des2_sift)\n",
    "\n",
    "img=cv2.drawKeypoints(gray_2,kp2_sift,gray_2,flags=cv2.DRAW_MATCHES_FLAGS_DRAW_RICH_KEYPOINTS)\n",
    "cv2.imwrite(\"SIFT.jpg\", img)\n",
    "cv2.imshow(\"SIFT\", img)\n",
    "cv2.waitKey(0)\n",
    "cv2.destroyAllWindows()\n",
    "\n",
    "\n"
   ]
  },
  {
   "cell_type": "code",
   "execution_count": 18,
   "metadata": {},
   "outputs": [
    {
     "name": "stdout",
     "output_type": "stream",
     "text": [
      "DataType: <class 'cv2.DMatch'>\n",
      "描述符之間的距離: 59.0\n",
      "圖像中描述符的索引: 1\n",
      "DataType: <class 'cv2.DMatch'>\n",
      "描述符之間的距離: 198.2296600341797\n",
      "圖像中描述符的索引: 0\n"
     ]
    }
   ],
   "source": [
    "\n",
    "print(\"DataType:\",type(matches_orb[0]))\n",
    "print(\"描述符之間的距離:\",matches_orb[0].distance)# 越小越好\n",
    "print(\"圖像中描述符的索引:\",matches_orb[0].queryIdx)\n",
    "\n",
    "print(\"DataType:\",type(matches_sift[0]))\n",
    "print(\"描述符之間的距離:\",matches_sift[0].distance)\n",
    "print(\"圖像中描述符的索引:\",matches_sift[0].queryIdx)\n",
    "\n"
   ]
  }
 ],
 "metadata": {
  "kernelspec": {
   "display_name": "Python 3.9.2 64-bit",
   "language": "python",
   "name": "python3"
  },
  "language_info": {
   "codemirror_mode": {
    "name": "ipython",
    "version": 3
   },
   "file_extension": ".py",
   "mimetype": "text/x-python",
   "name": "python",
   "nbconvert_exporter": "python",
   "pygments_lexer": "ipython3",
   "version": "3.9.2"
  },
  "orig_nbformat": 4,
  "vscode": {
   "interpreter": {
    "hash": "27958f768dcca3a929804bc6fbe38aedd46970db20e3e9a2a0a7634f9c4148a3"
   }
  }
 },
 "nbformat": 4,
 "nbformat_minor": 2
}
