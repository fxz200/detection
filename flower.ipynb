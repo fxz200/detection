{
 "cells": [
  {
   "cell_type": "markdown",
   "metadata": {},
   "source": []
  },
  {
   "cell_type": "markdown",
   "metadata": {},
   "source": [
    "這邊用來存程式碼\n",
    "===\n",
    "下載完DATA記得改img路徑<br>\n",
    "懶得改就直接丟C槽 <font color=\"red\">然後資料夾名稱flowerpic</font><br>\n",
    "因為我如果全部推github 要很久== 你們下載會更久:)"
   ]
  },
  {
   "cell_type": "markdown",
   "metadata": {},
   "source": [
    "訓練集:https://www.kaggle.com/datasets/msheriey/104-flowers-garden-of-eden"
   ]
  },
  {
   "cell_type": "markdown",
   "metadata": {},
   "source": [
    "要做的<br>\n",
    "*   訓練辨識系統\n",
    "*   資料庫\n",
    "*   UI介面\n"
   ]
  },
  {
   "cell_type": "markdown",
   "metadata": {},
   "source": [
    "訓練辨識系統\n",
    "---\n"
   ]
  },
  {
   "cell_type": "code",
   "execution_count": 8,
   "metadata": {},
   "outputs": [],
   "source": [
    "#import 丟這裡\n",
    "#no moudle 請 pip install moudle 或是 python -m pip install moudle\n",
    "#\n",
    "##\n",
    "import pandas as pd\n",
    "import numpy as np\n",
    "import cv2\n",
    "import os\n",
    "from PIL import Image"
   ]
  },
  {
   "cell_type": "code",
   "execution_count": null,
   "metadata": {},
   "outputs": [],
   "source": [
    "#HSV即色相、飽和度、明度\n",
    "#https://zh.wikipedia.org/zh-tw/HSL%E5%92%8CHSV%E8%89%B2%E5%BD%A9%E7%A9%BA%E9%97%B4\n",
    "##看顏色##\n",
    "#https://www.peko-step.com/zhtw/tool/hsvrgb.html\n",
    "img=\"C:/flowerpic/jpeg-224x224/val/iris/12769.jpeg\"\n",
    "img=cv2.imread(img)\n",
    "img=cv2.cvtColor(img,cv2.COLOR_BGR2HSV)\n",
    "\n",
    "cv2.imwrite('oxx1.jpeg', img)\n",
    "cv2.waitKey(0)                              \n",
    "cv2.destroyAllWindows()\n",
    "for i in img :\n",
    "    \n",
    "    print(i)\n",
    "    \n"
   ]
  },
  {
   "cell_type": "markdown",
   "metadata": {},
   "source": [
    "PS 中\n",
    "\n",
    "H 範圍在 0 ~ 360 。 S 範圍在 0 ~ 1 % V 範圍在 0 ~ 1 %\n",
    "\n",
    "Python 中\n",
    "\n",
    "H 範圍在 0 ~ 180 S 範圍在 0 ~ 255 V 範圍在 0 ~ 255"
   ]
  },
  {
   "cell_type": "code",
   "execution_count": 103,
   "metadata": {},
   "outputs": [
    {
     "name": "stdout",
     "output_type": "stream",
     "text": [
      "29\n"
     ]
    }
   ],
   "source": [
    "#顏色區分\n",
    "#論文pg21 有空幫我看一下我有沒有寫錯 謝謝\n",
    "HSV=[114, 134, 181]\n",
    "HSV=np.array(HSV)\n",
    "def HSV_differentiate(HSV):\n",
    "    h=HSV[0]*2\n",
    "    s=HSV[1]*100/255\n",
    "    v=HSV[2]*100/255\n",
    "    if v>0 and v<=20:\n",
    "        l=0\n",
    "    elif 0<s<=20 and 20<=v<80 :\n",
    "        l=((v/100-0.2)*10)+1   \n",
    "    elif 0<s<=20 and 20<v<=100:\n",
    "        l=7\n",
    "    else:\n",
    "        if h>22 and h<=45:\n",
    "            H=1\n",
    "        elif h>45 and h<=70:\n",
    "            H=2\n",
    "        elif h>70 and h<=155:\n",
    "            H=3\n",
    "        elif h>155 and h<=186:\n",
    "            H=4\n",
    "        elif h>186 and h<=278:\n",
    "            H=5\n",
    "        elif h>278 or h<=330:\n",
    "            H=0\n",
    "        else:H=0\n",
    "        if s>20 and s<=65:\n",
    "            S=0\n",
    "        else:S=1\n",
    "        if v>20 and v<=70:\n",
    "            V=0\n",
    "        else:V=1\n",
    "        l=4*H+2*S+V+8\n",
    "    return l\n",
    "\n",
    "print(HSV_differentiate(HSV))"
   ]
  },
  {
   "cell_type": "code",
   "execution_count": 11,
   "metadata": {},
   "outputs": [
    {
     "data": {
      "text/plain": [
       "50176"
      ]
     },
     "execution_count": 11,
     "metadata": {},
     "output_type": "execute_result"
    }
   ],
   "source": [
    "224*224"
   ]
  },
  {
   "cell_type": "code",
   "execution_count": 12,
   "metadata": {},
   "outputs": [
    {
     "name": "stdout",
     "output_type": "stream",
     "text": [
      "111 124\n"
     ]
    }
   ],
   "source": [
    "#畫出圓形區域\n",
    "def Centroid(img):\n",
    "    img = cv2.imread(img)\n",
    "    gray_image = cv2.cvtColor(img, cv2.COLOR_BGR2GRAY)\n",
    "    ret,thresh = cv2.threshold(gray_image,127,255,0)\n",
    "    M = cv2.moments(thresh)\n",
    "    #質心\n",
    "    cX = int(M[\"m10\"] / M[\"m00\"])\n",
    "    cY = int(M[\"m01\"] / M[\"m00\"])\n",
    "    \n",
    "    if cX>cY:\n",
    "        radius=cY-1\n",
    "    else:radius=cX-1\n",
    "        \n",
    "    cv2.circle(img, (cX, cY), 2, (255, 255, 255), -1)\n",
    "    cv2.circle(img, (cX, cY), radius,(255, 255, 255), 0)\n",
    "    cv2.circle(img, (cX, cY), radius//3,(255, 255, 255), 0)\n",
    "    cv2.circle(img, (cX, cY), radius*2//3,(255, 255, 255), 0)\n",
    "    print(cX,cY)\n",
    " \n",
    "    cv2.imshow(\"Image\", img)\n",
    "    cv2.waitKey(0)\n",
    "  \n",
    "Centroid(\"C:/flowerpic/jpeg-224x224/val/iris/12769.jpeg\")\n"
   ]
  },
  {
   "cell_type": "code",
   "execution_count": 17,
   "metadata": {},
   "outputs": [],
   "source": [
    "#切割圓形區域\n",
    "\n",
    "r=110\n",
    "\n",
    "img=\"C:/flowerpic/jpeg-224x224/val/iris/12769.jpeg\"\n",
    "img_=cv2.imread(img)\n",
    "img1 = cv2.imread(img)\n",
    "img2 = cv2.imread(img)\n",
    "img3 = cv2.imread(img)\n",
    "\n",
    "##最大\n",
    "#MASK1=np.zeros_like(img1)\n",
    "MASK1=np.zeros((img1.shape[0], img1.shape[1]), dtype=np.uint8) \n",
    "cv2.circle(MASK1, (111,124), r, (255, 255, 255), -1) \n",
    "##次之\n",
    "#MASK2=np.zeros_like(img2)\n",
    "MASK2=np.zeros((img2.shape[0], img2.shape[1]), dtype=np.uint8) \n",
    "cv2.circle(MASK2, (111,124), r*2//3, (255, 255, 255), -1)\n",
    "\n",
    "##最小 \n",
    "#MASK3=np.zeros_like(img3)\n",
    "MASK3=np.zeros((img3.shape[0], img3.shape[1]), dtype=np.uint8) \n",
    "cv2.circle(MASK3, (111,124), r//3, (255, 255, 255), -1)\n",
    "\n",
    "mask2 = cv2.subtract(MASK2, MASK3)\n",
    "mask1 = cv2.subtract(MASK1, MASK2)\n",
    "# # ROI\n",
    "# result2 = cv2.cvtColor(img2, cv2.COLOR_BGR2BGRA)\n",
    "# result2[:, :, 3] = mask2[:,:,0]\n",
    "# #cv2.imshow('image', result2)\n",
    "# #cv2.imshow('mask2', mask2)\n",
    "# cv2.imwrite('result2.png', result2)\n",
    "\n",
    "# result1 = cv2.cvtColor(img1, cv2.COLOR_BGR2BGRA)\n",
    "# result1[:, :, 3] = mask1[:,:,0]\n",
    "# #cv2.imshow('image', result1)\n",
    "# #cv2.imshow('mask1', mask1)\n",
    "# cv2.imwrite('result1.png', result1)\n",
    "\n",
    "# result3 = cv2.cvtColor(img3, cv2.COLOR_BGR2BGRA)\n",
    "# result3[:, :, 3] = MASK3[:,:,0]\n",
    "# #cv2.imshow('image', result3)\n",
    "# #cv2.imshow('mask3', MASK3)\n",
    "# cv2.imwrite('result3.png', result3)\n",
    "\n",
    "imgAddMask1 = cv2.add(img1, np.zeros(np.shape(img1), dtype=np.uint8), mask=mask1)\n",
    "imgAddMask2 = cv2.add(img2, np.zeros(np.shape(img2), dtype=np.uint8), mask=mask2)\n",
    "imgAddMask3 = cv2.add(img3, np.zeros(np.shape(img3), dtype=np.uint8), mask=MASK3)\n",
    "cv2.imshow(\"circularMask\", mask1)  \n",
    "cv2.imshow(\"circularROI\", imgAddMask1)\n",
    "cv2.imshow(\"circularMask2\", mask2)  \n",
    "cv2.imshow(\"circularROI2\", imgAddMask2)\n",
    "cv2.imshow(\"circularMask3\", MASK3)  \n",
    "cv2.imshow(\"circularROI3\", imgAddMask3)\n",
    "cv2.imwrite('cut1.jpeg', imgAddMask1)\n",
    "cv2.imwrite('cut2.jpeg', imgAddMask2)\n",
    "cv2.imwrite('cut3.jpeg', imgAddMask3)\n",
    "cv2.waitKey()\n",
    "cv2.destroyAllWindows()"
   ]
  },
  {
   "cell_type": "code",
   "execution_count": 104,
   "metadata": {},
   "outputs": [
    {
     "data": {
      "text/plain": [
       "(array([3214.,   55.,  212.,    6.,    0.,  256.,  121.,    7.,    0.,\n",
       "        1680.]),\n",
       " array([ 0. ,  3.1,  6.2,  9.3, 12.4, 15.5, 18.6, 21.7, 24.8, 27.9, 31. ]),\n",
       " <BarContainer object of 10 artists>)"
      ]
     },
     "execution_count": 104,
     "metadata": {},
     "output_type": "execute_result"
    },
    {
     "data": {
      "image/png": "[encoded data removed]",
      "text/plain": [
       "<Figure size 432x288 with 3 Axes>"
      ]
     },
     "metadata": {
      "needs_background": "light"
     },
     "output_type": "display_data"
    }
   ],
   "source": [
    "#直方圖\n",
    "##施工中##\n",
    "import matplotlib.pyplot as plt\n",
    "img1 = cv2.imread(\"cut1.jpeg\")\n",
    "img2 = cv2.imread(\"cut2.jpeg\")\n",
    "img3 = cv2.imread(\"cut3.jpeg\")\n",
    "#cv2.imshow('result3.png',img2)\n",
    "##no change\n",
    "img1_=cv2.cvtColor(img1,cv2.COLOR_BGR2HSV)\n",
    "img2_=cv2.cvtColor(img2,cv2.COLOR_BGR2HSV)\n",
    "img3_=cv2.cvtColor(img3,cv2.COLOR_BGR2HSV)\n",
    "#cv2.imshow('result3.png',img2)\n",
    "cv2.waitKey()\n",
    "cv2.destroyAllWindows()\n",
    "##刪除純黑## \n",
    "\n",
    "black=np.array([0,0,0])\n",
    "color_list_1_no_black=[]\n",
    "color_list_2_no_black=[]\n",
    "color_list_3_no_black=[]\n",
    "#color_list_1_no_black=np.ndarray(color_list_1_no_black)\n",
    "for i in img1_:\n",
    "    for k in i:\n",
    "        if k.any() == black.any():\n",
    "            continue\n",
    "        else:\n",
    "            color_list_1_no_black.append(k)\n",
    "            #print(k)\n",
    "for i in img2_:\n",
    "    for k in i:\n",
    "        if k.any() == black.any():\n",
    "            continue\n",
    "        else:\n",
    "            color_list_2_no_black.append(k)\n",
    "            #print(k)\n",
    "for i in img3_:\n",
    "    for k in i:\n",
    "        if k.any() == black.any():\n",
    "            continue\n",
    "        else:\n",
    "            color_list_3_no_black.append(k)\n",
    "            #print(k)    \n",
    "\n",
    "color_hist_1=[]\n",
    "for i in color_list_1_no_black:\n",
    "    color_hist_1.append(HSV_differentiate(i))\n",
    "plt.subplot(131) \n",
    "plt.hist(color_hist_1)\n",
    "\n",
    "color_hist_2=[]\n",
    "for i in color_list_2_no_black:\n",
    "    color_hist_2.append(HSV_differentiate(i))\n",
    "plt.subplot(132) \n",
    "plt.hist(color_hist_2)\n",
    "\n",
    "\n",
    "color_hist_3=[]\n",
    "for i in color_list_3_no_black:\n",
    "    color_hist_3.append(HSV_differentiate(i))\n",
    "plt.subplot(133) \n",
    "plt.hist(color_hist_3)\n",
    "\n",
    "\n",
    "# color_list_1=[]\n",
    "# for i in img1:\n",
    "#     for k in i:\n",
    "#         color_list_1.append(HSV_differentiate(k))\n",
    "\n",
    "# color_list_1\n",
    "# plt.subplot(131)    \n",
    "# plt.hist(color_list_1)\n",
    "# color_list_2=[]\n",
    "# for i in img2:\n",
    "#     for k in i:\n",
    "#         color_list_2.append(HSV_differentiate(k))\n",
    "\n",
    "# color_list_2 \n",
    "# plt.subplot(132)      \n",
    "# plt.hist(color_list_2)\n",
    "# color_list_3=[]\n",
    "# for i in img3:\n",
    "#     for k in i:\n",
    "#         color_list_3.append(HSV_differentiate(k))\n",
    "\n",
    "# color_list_3    \n",
    "# plt.subplot(133)   \n",
    "# plt.hist(color_list_3)\n",
    "##施工中##"
   ]
  },
  {
   "cell_type": "code",
   "execution_count": 74,
   "metadata": {},
   "outputs": [],
   "source": [
    "def rgb2hsv(color):\n",
    "    color_list=color.tolist()\n",
    "    b,g,r=color_list[0],color_list[1],color_list[2]\n",
    "    r, g, b = r/255.0, g/255.0, b/255.0\n",
    "    mx, mn = max(r, g, b), min(r, g, b)\n",
    "    m = mx-mn\n",
    "    if mx == mn:\n",
    "        h = 0\n",
    "    elif mx == r:\n",
    "        if g >= b:\n",
    "            h = ((g-b)/m)*60\n",
    "        else:\n",
    "            h = ((g-b)/m)*60 + 360\n",
    "    elif mx == g:\n",
    "        h = ((b-r)/m)*60 + 120\n",
    "    elif mx == b:\n",
    "        h = ((r-g)/m)*60 + 240\n",
    "    if mx == 0:\n",
    "        s = 0\n",
    "    else:\n",
    "        s = m/mx\n",
    "    v = mx\n",
    "    return h, s, v\n"
   ]
  },
  {
   "cell_type": "code",
   "execution_count": 105,
   "metadata": {},
   "outputs": [
    {
     "data": {
      "text/plain": [
       "(array([2.8140e+03, 0.0000e+00, 7.7700e+02, 4.5966e+04, 6.8000e+01,\n",
       "        4.3000e+01, 1.4700e+02, 1.1500e+02, 1.5000e+01, 2.3100e+02]),\n",
       " array([ 0. ,  3.1,  6.2,  9.3, 12.4, 15.5, 18.6, 21.7, 24.8, 27.9, 31. ]),\n",
       " <BarContainer object of 10 artists>)"
      ]
     },
     "execution_count": 105,
     "metadata": {},
     "output_type": "execute_result"
    },
    {
     "data": {
      "image/png": "[encoded data removed]",
      "text/plain": [
       "<Figure size 432x288 with 3 Axes>"
      ]
     },
     "metadata": {
      "needs_background": "light"
     },
     "output_type": "display_data"
    }
   ],
   "source": [
    "color_list_1=[]\n",
    "for i in img1:\n",
    "    for k in i:\n",
    "        color_list_1.append(HSV_differentiate(k))\n",
    "\n",
    "color_list_1\n",
    "plt.subplot(131)    \n",
    "plt.hist(color_list_1)\n",
    "color_list_2=[]\n",
    "for i in img2:\n",
    "    for k in i:\n",
    "        color_list_2.append(HSV_differentiate(k))\n",
    "\n",
    "color_list_2 \n",
    "plt.subplot(132)      \n",
    "plt.hist(color_list_2)\n",
    "color_list_3=[]\n",
    "for i in img3:\n",
    "    for k in i:\n",
    "        color_list_3.append(HSV_differentiate(k))\n",
    "\n",
    "color_list_3    \n",
    "plt.subplot(133)   \n",
    "plt.hist(color_list_3)"
   ]
  }
 ],
 "metadata": {
  "kernelspec": {
   "display_name": "Python 3.9.2 64-bit",
   "language": "python",
   "name": "python3"
  },
  "language_info": {
   "codemirror_mode": {
    "name": "ipython",
    "version": 3
   },
   "file_extension": ".py",
   "mimetype": "text/x-python",
   "name": "python",
   "nbconvert_exporter": "python",
   "pygments_lexer": "ipython3",
   "version": "3.9.2"
  },
  "orig_nbformat": 4,
  "vscode": {
   "interpreter": {
    "hash": "27958f768dcca3a929804bc6fbe38aedd46970db20e3e9a2a0a7634f9c4148a3"
   }
  }
 },
 "nbformat": 4,
 "nbformat_minor": 2
}
